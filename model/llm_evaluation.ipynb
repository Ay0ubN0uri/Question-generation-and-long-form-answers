{
 "cells": [
  {
   "cell_type": "code",
   "execution_count": 1,
   "metadata": {},
   "outputs": [],
   "source": [
    "import os\n",
    "\n",
    "os.environ[\"OPENAI_API_KEY\"] = \"you_api_key\""
   ]
  },
  {
   "cell_type": "code",
   "execution_count": 2,
   "metadata": {},
   "outputs": [
    {
     "name": "stdout",
     "output_type": "stream",
     "text": [
      "Collecting datasets\n",
      "  Downloading datasets-2.18.0-py3-none-any.whl (510 kB)\n",
      "Collecting multiprocess\n",
      "  Downloading multiprocess-0.70.16-py310-none-any.whl (134 kB)\n",
      "Requirement already satisfied: numpy>=1.17 in c:\\users\\hp\\documents\\2ite2\\pfa\\model\\question-generation-and-long-form-answers\\venv\\lib\\site-packages (from datasets) (1.26.4)\n",
      "Requirement already satisfied: pandas in c:\\users\\hp\\documents\\2ite2\\pfa\\model\\question-generation-and-long-form-answers\\venv\\lib\\site-packages (from datasets) (2.2.1)\n",
      "Requirement already satisfied: requests>=2.19.0 in c:\\users\\hp\\documents\\2ite2\\pfa\\model\\question-generation-and-long-form-answers\\venv\\lib\\site-packages (from datasets) (2.31.0)\n",
      "Collecting dill<0.3.9,>=0.3.0\n",
      "  Using cached dill-0.3.8-py3-none-any.whl (116 kB)\n",
      "Requirement already satisfied: huggingface-hub>=0.19.4 in c:\\users\\hp\\documents\\2ite2\\pfa\\model\\question-generation-and-long-form-answers\\venv\\lib\\site-packages (from datasets) (0.21.3)\n",
      "Collecting pyarrow>=12.0.0\n",
      "  Downloading pyarrow-15.0.2-cp310-cp310-win_amd64.whl (24.8 MB)\n",
      "Requirement already satisfied: packaging in c:\\users\\hp\\documents\\2ite2\\pfa\\model\\question-generation-and-long-form-answers\\venv\\lib\\site-packages (from datasets) (23.2)\n",
      "Collecting xxhash\n",
      "  Downloading xxhash-3.4.1-cp310-cp310-win_amd64.whl (29 kB)\n",
      "Requirement already satisfied: pyyaml>=5.1 in c:\\users\\hp\\documents\\2ite2\\pfa\\model\\question-generation-and-long-form-answers\\venv\\lib\\site-packages (from datasets) (6.0.1)\n",
      "Requirement already satisfied: aiohttp in c:\\users\\hp\\documents\\2ite2\\pfa\\model\\question-generation-and-long-form-answers\\venv\\lib\\site-packages (from datasets) (3.9.3)\n",
      "Collecting pyarrow-hotfix\n",
      "  Downloading pyarrow_hotfix-0.6-py3-none-any.whl (7.9 kB)\n",
      "Requirement already satisfied: tqdm>=4.62.1 in c:\\users\\hp\\documents\\2ite2\\pfa\\model\\question-generation-and-long-form-answers\\venv\\lib\\site-packages (from datasets) (4.66.2)\n",
      "Requirement already satisfied: filelock in c:\\users\\hp\\documents\\2ite2\\pfa\\model\\question-generation-and-long-form-answers\\venv\\lib\\site-packages (from datasets) (3.13.1)\n",
      "Requirement already satisfied: fsspec[http]<=2024.2.0,>=2023.1.0 in c:\\users\\hp\\documents\\2ite2\\pfa\\model\\question-generation-and-long-form-answers\\venv\\lib\\site-packages (from datasets) (2024.2.0)\n",
      "Requirement already satisfied: multidict<7.0,>=4.5 in c:\\users\\hp\\documents\\2ite2\\pfa\\model\\question-generation-and-long-form-answers\\venv\\lib\\site-packages (from aiohttp->datasets) (6.0.5)\n",
      "Requirement already satisfied: yarl<2.0,>=1.0 in c:\\users\\hp\\documents\\2ite2\\pfa\\model\\question-generation-and-long-form-answers\\venv\\lib\\site-packages (from aiohttp->datasets) (1.9.4)\n",
      "Requirement already satisfied: async-timeout<5.0,>=4.0 in c:\\users\\hp\\documents\\2ite2\\pfa\\model\\question-generation-and-long-form-answers\\venv\\lib\\site-packages (from aiohttp->datasets) (4.0.3)\n",
      "Requirement already satisfied: frozenlist>=1.1.1 in c:\\users\\hp\\documents\\2ite2\\pfa\\model\\question-generation-and-long-form-answers\\venv\\lib\\site-packages (from aiohttp->datasets) (1.4.1)\n",
      "Requirement already satisfied: attrs>=17.3.0 in c:\\users\\hp\\documents\\2ite2\\pfa\\model\\question-generation-and-long-form-answers\\venv\\lib\\site-packages (from aiohttp->datasets) (23.2.0)\n",
      "Requirement already satisfied: aiosignal>=1.1.2 in c:\\users\\hp\\documents\\2ite2\\pfa\\model\\question-generation-and-long-form-answers\\venv\\lib\\site-packages (from aiohttp->datasets) (1.3.1)\n",
      "Requirement already satisfied: typing-extensions>=3.7.4.3 in c:\\users\\hp\\documents\\2ite2\\pfa\\model\\question-generation-and-long-form-answers\\venv\\lib\\site-packages (from huggingface-hub>=0.19.4->datasets) (4.10.0)\n",
      "Requirement already satisfied: idna<4,>=2.5 in c:\\users\\hp\\documents\\2ite2\\pfa\\model\\question-generation-and-long-form-answers\\venv\\lib\\site-packages (from requests>=2.19.0->datasets) (3.6)\n",
      "Requirement already satisfied: urllib3<3,>=1.21.1 in c:\\users\\hp\\documents\\2ite2\\pfa\\model\\question-generation-and-long-form-answers\\venv\\lib\\site-packages (from requests>=2.19.0->datasets) (2.2.1)\n",
      "Requirement already satisfied: certifi>=2017.4.17 in c:\\users\\hp\\documents\\2ite2\\pfa\\model\\question-generation-and-long-form-answers\\venv\\lib\\site-packages (from requests>=2.19.0->datasets) (2024.2.2)\n",
      "Requirement already satisfied: charset-normalizer<4,>=2 in c:\\users\\hp\\documents\\2ite2\\pfa\\model\\question-generation-and-long-form-answers\\venv\\lib\\site-packages (from requests>=2.19.0->datasets) (3.3.2)\n",
      "Requirement already satisfied: colorama in c:\\users\\hp\\documents\\2ite2\\pfa\\model\\question-generation-and-long-form-answers\\venv\\lib\\site-packages (from tqdm>=4.62.1->datasets) (0.4.6)\n",
      "Requirement already satisfied: pytz>=2020.1 in c:\\users\\hp\\documents\\2ite2\\pfa\\model\\question-generation-and-long-form-answers\\venv\\lib\\site-packages (from pandas->datasets) (2024.1)\n",
      "Requirement already satisfied: python-dateutil>=2.8.2 in c:\\users\\hp\\documents\\2ite2\\pfa\\model\\question-generation-and-long-form-answers\\venv\\lib\\site-packages (from pandas->datasets) (2.9.0.post0)\n",
      "Requirement already satisfied: tzdata>=2022.7 in c:\\users\\hp\\documents\\2ite2\\pfa\\model\\question-generation-and-long-form-answers\\venv\\lib\\site-packages (from pandas->datasets) (2024.1)\n",
      "Requirement already satisfied: six>=1.5 in c:\\users\\hp\\documents\\2ite2\\pfa\\model\\question-generation-and-long-form-answers\\venv\\lib\\site-packages (from python-dateutil>=2.8.2->pandas->datasets) (1.16.0)\n",
      "Installing collected packages: dill, xxhash, pyarrow-hotfix, pyarrow, multiprocess, datasets\n",
      "Successfully installed datasets-2.18.0 dill-0.3.8 multiprocess-0.70.16 pyarrow-15.0.2 pyarrow-hotfix-0.6 xxhash-3.4.1\n"
     ]
    },
    {
     "name": "stderr",
     "output_type": "stream",
     "text": [
      "WARNING: You are using pip version 21.2.3; however, version 24.0 is available.\n",
      "You should consider upgrading via the 'C:\\Users\\HP\\Documents\\2ite2\\pfa\\model\\Question-generation-and-long-form-answers\\venv\\Scripts\\python.exe -m pip install --upgrade pip' command.\n"
     ]
    }
   ],
   "source": [
    "%pip install datasets"
   ]
  },
  {
   "cell_type": "markdown",
   "metadata": {},
   "source": [
    "# Generate Answers of a Model"
   ]
  },
  {
   "cell_type": "markdown",
   "metadata": {},
   "source": [
    "## Loading the V2 dataset"
   ]
  },
  {
   "cell_type": "code",
   "execution_count": 2,
   "metadata": {},
   "outputs": [
    {
     "name": "stderr",
     "output_type": "stream",
     "text": [
      "c:\\Users\\ay0ub\\Desktop\\PFA\\Question generation and long form answers\\.venv\\lib\\site-packages\\tqdm\\auto.py:21: TqdmWarning: IProgress not found. Please update jupyter and ipywidgets. See https://ipywidgets.readthedocs.io/en/stable/user_install.html\n",
      "  from .autonotebook import tqdm as notebook_tqdm\n",
      "Using the latest cached version of the module from C:\\Users\\ay0ub\\.cache\\huggingface\\modules\\datasets_modules\\datasets\\explodinggradients--amnesty_qa\\d0ed9800191a31943ee52a5c22ee4305e28a33f5edcd9a323802112cff07cc24 (last modified on Fri Apr 12 13:16:47 2024) since it couldn't be found locally at explodinggradients/amnesty_qa, or remotely on the Hugging Face Hub.\n",
      "Repo card metadata block was not found. Setting CardData to empty.\n"
     ]
    },
    {
     "data": {
      "text/plain": [
       "DatasetDict({\n",
       "    eval: Dataset({\n",
       "        features: ['question', 'ground_truth', 'answer', 'contexts'],\n",
       "        num_rows: 20\n",
       "    })\n",
       "})"
      ]
     },
     "execution_count": 2,
     "metadata": {},
     "output_type": "execute_result"
    }
   ],
   "source": [
    "from datasets import load_dataset\n",
    "\n",
    "# loading the V2 dataset\n",
    "amnesty_qa = load_dataset(\"explodinggradients/amnesty_qa\", \"english_v2\")\n",
    "amnesty_qa"
   ]
  },
  {
   "cell_type": "code",
   "execution_count": 3,
   "metadata": {},
   "outputs": [
    {
     "data": {
      "text/html": [
       "<div>\n",
       "<style scoped>\n",
       "    .dataframe tbody tr th:only-of-type {\n",
       "        vertical-align: middle;\n",
       "    }\n",
       "\n",
       "    .dataframe tbody tr th {\n",
       "        vertical-align: top;\n",
       "    }\n",
       "\n",
       "    .dataframe thead th {\n",
       "        text-align: right;\n",
       "    }\n",
       "</style>\n",
       "<table border=\"1\" class=\"dataframe\">\n",
       "  <thead>\n",
       "    <tr style=\"text-align: right;\">\n",
       "      <th></th>\n",
       "      <th>question</th>\n",
       "      <th>ground_truth</th>\n",
       "      <th>answer</th>\n",
       "      <th>contexts</th>\n",
       "    </tr>\n",
       "  </thead>\n",
       "  <tbody>\n",
       "    <tr>\n",
       "      <th>0</th>\n",
       "      <td>What are the global implications of the USA Su...</td>\n",
       "      <td>The global implications of the USA Supreme Cou...</td>\n",
       "      <td>The global implications of the USA Supreme Cou...</td>\n",
       "      <td>[- In 2022, the USA Supreme Court handed down ...</td>\n",
       "    </tr>\n",
       "    <tr>\n",
       "      <th>1</th>\n",
       "      <td>Which companies are the main contributors to G...</td>\n",
       "      <td>According to the Carbon Majors database, the m...</td>\n",
       "      <td>According to the Carbon Majors database, the m...</td>\n",
       "      <td>[- Fossil fuel companies, whether state or pri...</td>\n",
       "    </tr>\n",
       "    <tr>\n",
       "      <th>2</th>\n",
       "      <td>Which private companies in the Americas are th...</td>\n",
       "      <td>The largest private companies in the Americas ...</td>\n",
       "      <td>According to the Carbon Majors database, the l...</td>\n",
       "      <td>[The private companies responsible for the mos...</td>\n",
       "    </tr>\n",
       "    <tr>\n",
       "      <th>3</th>\n",
       "      <td>What action did Amnesty International urge its...</td>\n",
       "      <td>Amnesty International urged its supporters to ...</td>\n",
       "      <td>Amnesty International urged its supporters to ...</td>\n",
       "      <td>[Amnesty International called on its vast netw...</td>\n",
       "    </tr>\n",
       "    <tr>\n",
       "      <th>4</th>\n",
       "      <td>What are the recommendations made by Amnesty I...</td>\n",
       "      <td>The recommendations made by Amnesty Internatio...</td>\n",
       "      <td>Amnesty International made several recommendat...</td>\n",
       "      <td>[Amnesty International recommends that the Spe...</td>\n",
       "    </tr>\n",
       "    <tr>\n",
       "      <th>5</th>\n",
       "      <td>Who are the target audience of the two books c...</td>\n",
       "      <td>The target audience of the two books created b...</td>\n",
       "      <td>The target audience of the two books created b...</td>\n",
       "      <td>[Amnesty International has therefore created t...</td>\n",
       "    </tr>\n",
       "    <tr>\n",
       "      <th>6</th>\n",
       "      <td>Which right guarantees access to comprehensive...</td>\n",
       "      <td>The right that guarantees access to comprehens...</td>\n",
       "      <td>The right that guarantees access to comprehens...</td>\n",
       "      <td>[26. The Act raises serious questions about it...</td>\n",
       "    </tr>\n",
       "    <tr>\n",
       "      <th>7</th>\n",
       "      <td>Who has the right to be fully informed about h...</td>\n",
       "      <td>The victims of gross human rights violations a...</td>\n",
       "      <td>Everyone has the right to be fully informed ab...</td>\n",
       "      <td>[- The victims of gross human rights violation...</td>\n",
       "    </tr>\n",
       "    <tr>\n",
       "      <th>8</th>\n",
       "      <td>When can individuals be found guilty under Art...</td>\n",
       "      <td>Individuals can be found guilty under Article ...</td>\n",
       "      <td>Under Article 207.3 of the Russian Criminal Co...</td>\n",
       "      <td>[- As long as their statements are contrary to...</td>\n",
       "    </tr>\n",
       "    <tr>\n",
       "      <th>9</th>\n",
       "      <td>When does the prosecution consider statements ...</td>\n",
       "      <td>The prosecution considers statements contrary ...</td>\n",
       "      <td>Under Article 207.3 of the Russian Criminal Co...</td>\n",
       "      <td>[- As long as their statements are contrary to...</td>\n",
       "    </tr>\n",
       "    <tr>\n",
       "      <th>10</th>\n",
       "      <td>What factors have contributed to the decline o...</td>\n",
       "      <td>The factors that have contributed to the decli...</td>\n",
       "      <td>There are several factors that have contribute...</td>\n",
       "      <td>[- \"arrests and harassment of human rights def...</td>\n",
       "    </tr>\n",
       "    <tr>\n",
       "      <th>11</th>\n",
       "      <td>What conditions designate wetlands as Ramsar s...</td>\n",
       "      <td>The conditions that designate wetlands as Rams...</td>\n",
       "      <td>Wetlands are designated as Ramsar sites based ...</td>\n",
       "      <td>[- \"Ramsar sites are designated when they fulf...</td>\n",
       "    </tr>\n",
       "    <tr>\n",
       "      <th>12</th>\n",
       "      <td>Where was COP15 held in 2022?</td>\n",
       "      <td>COP15 was held in Montreal, Canada in 2022.</td>\n",
       "      <td>COP15 was held in Kunming, China in 2022.</td>\n",
       "      <td>[- These include the agreement known as 30x30,...</td>\n",
       "    </tr>\n",
       "    <tr>\n",
       "      <th>13</th>\n",
       "      <td>What is the purpose of the agreement known as ...</td>\n",
       "      <td>The purpose of the agreement known as 30x30 is...</td>\n",
       "      <td>The purpose of the agreement known as 30x30 is...</td>\n",
       "      <td>[- These include the agreement known as 30x30,...</td>\n",
       "    </tr>\n",
       "    <tr>\n",
       "      <th>14</th>\n",
       "      <td>Who failed to explicitly recognize Indigenous ...</td>\n",
       "      <td>The States failed to explicitly recognize Indi...</td>\n",
       "      <td>At COP15, the United Nations Climate Change Co...</td>\n",
       "      <td>[Unfortunately, at COP15, States failed to exp...</td>\n",
       "    </tr>\n",
       "    <tr>\n",
       "      <th>15</th>\n",
       "      <td>What are the consequences of criminalizing abo...</td>\n",
       "      <td>The consequences of criminalizing abortion for...</td>\n",
       "      <td>Criminalizing abortion can have severe consequ...</td>\n",
       "      <td>[- Abortion criminalization contributes to sti...</td>\n",
       "    </tr>\n",
       "    <tr>\n",
       "      <th>16</th>\n",
       "      <td>What responsibilities should social media comp...</td>\n",
       "      <td>Social media companies should have the respons...</td>\n",
       "      <td>Social media companies have a responsibility t...</td>\n",
       "      <td>[Social media companies involved in facilitati...</td>\n",
       "    </tr>\n",
       "    <tr>\n",
       "      <th>17</th>\n",
       "      <td>What role do social media companies play in pr...</td>\n",
       "      <td>Social media companies play a role in protecti...</td>\n",
       "      <td>Social media companies play a crucial role in ...</td>\n",
       "      <td>[Companies, including social media companies, ...</td>\n",
       "    </tr>\n",
       "    <tr>\n",
       "      <th>18</th>\n",
       "      <td>What labor abuses were documented by Amnesty I...</td>\n",
       "      <td>Amnesty International documented labor abuses ...</td>\n",
       "      <td>Amnesty International has documented several l...</td>\n",
       "      <td>[During the tournament, Amnesty International ...</td>\n",
       "    </tr>\n",
       "    <tr>\n",
       "      <th>19</th>\n",
       "      <td>When did the government of Qatar start repeali...</td>\n",
       "      <td>The government of Qatar started repealing rest...</td>\n",
       "      <td>The government of Qatar started repealing rest...</td>\n",
       "      <td>[Between 2018 and 2020, the government took im...</td>\n",
       "    </tr>\n",
       "  </tbody>\n",
       "</table>\n",
       "</div>"
      ],
      "text/plain": [
       "                                             question  \\\n",
       "0   What are the global implications of the USA Su...   \n",
       "1   Which companies are the main contributors to G...   \n",
       "2   Which private companies in the Americas are th...   \n",
       "3   What action did Amnesty International urge its...   \n",
       "4   What are the recommendations made by Amnesty I...   \n",
       "5   Who are the target audience of the two books c...   \n",
       "6   Which right guarantees access to comprehensive...   \n",
       "7   Who has the right to be fully informed about h...   \n",
       "8   When can individuals be found guilty under Art...   \n",
       "9   When does the prosecution consider statements ...   \n",
       "10  What factors have contributed to the decline o...   \n",
       "11  What conditions designate wetlands as Ramsar s...   \n",
       "12                      Where was COP15 held in 2022?   \n",
       "13  What is the purpose of the agreement known as ...   \n",
       "14  Who failed to explicitly recognize Indigenous ...   \n",
       "15  What are the consequences of criminalizing abo...   \n",
       "16  What responsibilities should social media comp...   \n",
       "17  What role do social media companies play in pr...   \n",
       "18  What labor abuses were documented by Amnesty I...   \n",
       "19  When did the government of Qatar start repeali...   \n",
       "\n",
       "                                         ground_truth  \\\n",
       "0   The global implications of the USA Supreme Cou...   \n",
       "1   According to the Carbon Majors database, the m...   \n",
       "2   The largest private companies in the Americas ...   \n",
       "3   Amnesty International urged its supporters to ...   \n",
       "4   The recommendations made by Amnesty Internatio...   \n",
       "5   The target audience of the two books created b...   \n",
       "6   The right that guarantees access to comprehens...   \n",
       "7   The victims of gross human rights violations a...   \n",
       "8   Individuals can be found guilty under Article ...   \n",
       "9   The prosecution considers statements contrary ...   \n",
       "10  The factors that have contributed to the decli...   \n",
       "11  The conditions that designate wetlands as Rams...   \n",
       "12        COP15 was held in Montreal, Canada in 2022.   \n",
       "13  The purpose of the agreement known as 30x30 is...   \n",
       "14  The States failed to explicitly recognize Indi...   \n",
       "15  The consequences of criminalizing abortion for...   \n",
       "16  Social media companies should have the respons...   \n",
       "17  Social media companies play a role in protecti...   \n",
       "18  Amnesty International documented labor abuses ...   \n",
       "19  The government of Qatar started repealing rest...   \n",
       "\n",
       "                                               answer  \\\n",
       "0   The global implications of the USA Supreme Cou...   \n",
       "1   According to the Carbon Majors database, the m...   \n",
       "2   According to the Carbon Majors database, the l...   \n",
       "3   Amnesty International urged its supporters to ...   \n",
       "4   Amnesty International made several recommendat...   \n",
       "5   The target audience of the two books created b...   \n",
       "6   The right that guarantees access to comprehens...   \n",
       "7   Everyone has the right to be fully informed ab...   \n",
       "8   Under Article 207.3 of the Russian Criminal Co...   \n",
       "9   Under Article 207.3 of the Russian Criminal Co...   \n",
       "10  There are several factors that have contribute...   \n",
       "11  Wetlands are designated as Ramsar sites based ...   \n",
       "12          COP15 was held in Kunming, China in 2022.   \n",
       "13  The purpose of the agreement known as 30x30 is...   \n",
       "14  At COP15, the United Nations Climate Change Co...   \n",
       "15  Criminalizing abortion can have severe consequ...   \n",
       "16  Social media companies have a responsibility t...   \n",
       "17  Social media companies play a crucial role in ...   \n",
       "18  Amnesty International has documented several l...   \n",
       "19  The government of Qatar started repealing rest...   \n",
       "\n",
       "                                             contexts  \n",
       "0   [- In 2022, the USA Supreme Court handed down ...  \n",
       "1   [- Fossil fuel companies, whether state or pri...  \n",
       "2   [The private companies responsible for the mos...  \n",
       "3   [Amnesty International called on its vast netw...  \n",
       "4   [Amnesty International recommends that the Spe...  \n",
       "5   [Amnesty International has therefore created t...  \n",
       "6   [26. The Act raises serious questions about it...  \n",
       "7   [- The victims of gross human rights violation...  \n",
       "8   [- As long as their statements are contrary to...  \n",
       "9   [- As long as their statements are contrary to...  \n",
       "10  [- \"arrests and harassment of human rights def...  \n",
       "11  [- \"Ramsar sites are designated when they fulf...  \n",
       "12  [- These include the agreement known as 30x30,...  \n",
       "13  [- These include the agreement known as 30x30,...  \n",
       "14  [Unfortunately, at COP15, States failed to exp...  \n",
       "15  [- Abortion criminalization contributes to sti...  \n",
       "16  [Social media companies involved in facilitati...  \n",
       "17  [Companies, including social media companies, ...  \n",
       "18  [During the tournament, Amnesty International ...  \n",
       "19  [Between 2018 and 2020, the government took im...  "
      ]
     },
     "execution_count": 3,
     "metadata": {},
     "output_type": "execute_result"
    }
   ],
   "source": [
    "df = amnesty_qa['eval'].to_pandas()\n",
    "df"
   ]
  },
  {
   "cell_type": "markdown",
   "metadata": {},
   "source": [
    "\n",
    "the answer should be based on the context"
   ]
  },
  {
   "cell_type": "code",
   "execution_count": 4,
   "metadata": {},
   "outputs": [],
   "source": [
    "from question_answer.pipelines import get_question_answering_pipeline_for_evaluation\n",
    "\n",
    "def generate_answer_for_evaluation(question, context, use_openai,ollama_model_name: str = 'mistral-question-answering:latest'):\n",
    "    pipline = get_question_answering_pipeline_for_evaluation(\n",
    "        use_openai=use_openai,\n",
    "        ollama_model_name=ollama_model_name\n",
    "    )\n",
    "    # p = pipline.get_component(\"prompt_builder\")\n",
    "    # return p.run(question=question,context=context)\n",
    "    res = pipline.run({\n",
    "        \"prompt_builder\": {\n",
    "            \"query\": question,\n",
    "            \"context\": context\n",
    "        },\n",
    "    })\n",
    "    return res[\"llm\"][\"replies\"][0]"
   ]
  },
  {
   "cell_type": "markdown",
   "metadata": {},
   "source": [
    "## Generating Answers"
   ]
  },
  {
   "cell_type": "code",
   "execution_count": 9,
   "metadata": {},
   "outputs": [],
   "source": [
    "import pandas as pd\n",
    "new_df = pd.DataFrame(columns=df.columns)"
   ]
  },
  {
   "cell_type": "code",
   "execution_count": 10,
   "metadata": {},
   "outputs": [
    {
     "name": "stdout",
     "output_type": "stream",
     "text": [
      "generate answer for question 1\n",
      "answer generated\n",
      "generate answer for question 2\n",
      "answer generated\n",
      "generate answer for question 3\n",
      "answer generated\n",
      "generate answer for question 4\n",
      "answer generated\n",
      "generate answer for question 5\n",
      "answer generated\n",
      "generate answer for question 6\n",
      "answer generated\n",
      "generate answer for question 7\n",
      "answer generated\n",
      "generate answer for question 8\n",
      "answer generated\n",
      "generate answer for question 9\n",
      "answer generated\n",
      "generate answer for question 10\n",
      "answer generated\n",
      "generate answer for question 11\n",
      "answer generated\n",
      "generate answer for question 12\n",
      "answer generated\n",
      "generate answer for question 13\n",
      "answer generated\n",
      "generate answer for question 14\n",
      "answer generated\n",
      "generate answer for question 15\n",
      "answer generated\n",
      "generate answer for question 16\n",
      "answer generated\n",
      "generate answer for question 17\n",
      "answer generated\n",
      "generate answer for question 18\n",
      "answer generated\n",
      "generate answer for question 19\n",
      "answer generated\n",
      "generate answer for question 20\n",
      "answer generated\n"
     ]
    }
   ],
   "source": [
    "import time\n",
    "for index, row in df.iterrows():\n",
    "    # print(generate_answer_for_evaluation(row['question'],row['contexts'][0]))\n",
    "    print(f'generate answer for question {index+1}')\n",
    "    # answer = 'hello'\n",
    "    answer = generate_answer_for_evaluation(\n",
    "        row['question'], \n",
    "        row['contexts'][0],\n",
    "        use_openai=False,\n",
    "        ollama_model_name='llama3-question-answering:latest'\n",
    "    )\n",
    "    print(f'answer generated')\n",
    "    new_row = row.copy()\n",
    "    new_row['answer'] = answer\n",
    "    new_row['contexts'] = row['contexts'][0]\n",
    "    new_df = pd.concat([new_df, pd.DataFrame([new_row])], ignore_index=True)\n",
    "    # time.sleep(1)\n",
    "    # break"
   ]
  },
  {
   "cell_type": "code",
   "execution_count": 11,
   "metadata": {},
   "outputs": [
    {
     "data": {
      "text/html": [
       "<div>\n",
       "<style scoped>\n",
       "    .dataframe tbody tr th:only-of-type {\n",
       "        vertical-align: middle;\n",
       "    }\n",
       "\n",
       "    .dataframe tbody tr th {\n",
       "        vertical-align: top;\n",
       "    }\n",
       "\n",
       "    .dataframe thead th {\n",
       "        text-align: right;\n",
       "    }\n",
       "</style>\n",
       "<table border=\"1\" class=\"dataframe\">\n",
       "  <thead>\n",
       "    <tr style=\"text-align: right;\">\n",
       "      <th></th>\n",
       "      <th>question</th>\n",
       "      <th>ground_truth</th>\n",
       "      <th>answer</th>\n",
       "      <th>contexts</th>\n",
       "    </tr>\n",
       "  </thead>\n",
       "  <tbody>\n",
       "    <tr>\n",
       "      <th>0</th>\n",
       "      <td>What are the global implications of the USA Su...</td>\n",
       "      <td>The global implications of the USA Supreme Cou...</td>\n",
       "      <td>Based on the provided context, the global impl...</td>\n",
       "      <td>- In 2022, the USA Supreme Court handed down a...</td>\n",
       "    </tr>\n",
       "    <tr>\n",
       "      <th>1</th>\n",
       "      <td>Which companies are the main contributors to G...</td>\n",
       "      <td>According to the Carbon Majors database, the m...</td>\n",
       "      <td>According to the provided information, the mai...</td>\n",
       "      <td>- Fossil fuel companies, whether state or priv...</td>\n",
       "    </tr>\n",
       "    <tr>\n",
       "      <th>2</th>\n",
       "      <td>Which private companies in the Americas are th...</td>\n",
       "      <td>The largest private companies in the Americas ...</td>\n",
       "      <td>According to the context, the private companie...</td>\n",
       "      <td>The private companies responsible for the most...</td>\n",
       "    </tr>\n",
       "    <tr>\n",
       "      <th>3</th>\n",
       "      <td>What action did Amnesty International urge its...</td>\n",
       "      <td>Amnesty International urged its supporters to ...</td>\n",
       "      <td>Based on the provided context, Amnesty Interna...</td>\n",
       "      <td>Amnesty International called on its vast netwo...</td>\n",
       "    </tr>\n",
       "    <tr>\n",
       "      <th>4</th>\n",
       "      <td>What are the recommendations made by Amnesty I...</td>\n",
       "      <td>The recommendations made by Amnesty Internatio...</td>\n",
       "      <td>According to the provided context, the recomme...</td>\n",
       "      <td>Amnesty International recommends that the Spec...</td>\n",
       "    </tr>\n",
       "    <tr>\n",
       "      <th>5</th>\n",
       "      <td>Who are the target audience of the two books c...</td>\n",
       "      <td>The target audience of the two books created b...</td>\n",
       "      <td>Based on the provided context, the target audi...</td>\n",
       "      <td>Amnesty International has therefore created tw...</td>\n",
       "    </tr>\n",
       "    <tr>\n",
       "      <th>6</th>\n",
       "      <td>Which right guarantees access to comprehensive...</td>\n",
       "      <td>The right that guarantees access to comprehens...</td>\n",
       "      <td>According to the provided context, the right t...</td>\n",
       "      <td>26. The Act raises serious questions about its...</td>\n",
       "    </tr>\n",
       "    <tr>\n",
       "      <th>7</th>\n",
       "      <td>Who has the right to be fully informed about h...</td>\n",
       "      <td>The victims of gross human rights violations a...</td>\n",
       "      <td>According to the provided context, the victims...</td>\n",
       "      <td>- The victims of gross human rights violations...</td>\n",
       "    </tr>\n",
       "    <tr>\n",
       "      <th>8</th>\n",
       "      <td>When can individuals be found guilty under Art...</td>\n",
       "      <td>Individuals can be found guilty under Article ...</td>\n",
       "      <td>According to the provided context, individuals...</td>\n",
       "      <td>- As long as their statements are contrary to ...</td>\n",
       "    </tr>\n",
       "    <tr>\n",
       "      <th>9</th>\n",
       "      <td>When does the prosecution consider statements ...</td>\n",
       "      <td>The prosecution considers statements contrary ...</td>\n",
       "      <td>According to the context, the prosecution cons...</td>\n",
       "      <td>- As long as their statements are contrary to ...</td>\n",
       "    </tr>\n",
       "    <tr>\n",
       "      <th>10</th>\n",
       "      <td>What factors have contributed to the decline o...</td>\n",
       "      <td>The factors that have contributed to the decli...</td>\n",
       "      <td>Based on the provided context, the factors tha...</td>\n",
       "      <td>- \"arrests and harassment of human rights defe...</td>\n",
       "    </tr>\n",
       "    <tr>\n",
       "      <th>11</th>\n",
       "      <td>What conditions designate wetlands as Ramsar s...</td>\n",
       "      <td>The conditions that designate wetlands as Rams...</td>\n",
       "      <td>Based on the provided context, the conditions ...</td>\n",
       "      <td>- \"Ramsar sites are designated when they fulfi...</td>\n",
       "    </tr>\n",
       "    <tr>\n",
       "      <th>12</th>\n",
       "      <td>Where was COP15 held in 2022?</td>\n",
       "      <td>COP15 was held in Montreal, Canada in 2022.</td>\n",
       "      <td>According to the provided context, COP15 (the ...</td>\n",
       "      <td>- These include the agreement known as 30x30, ...</td>\n",
       "    </tr>\n",
       "    <tr>\n",
       "      <th>13</th>\n",
       "      <td>What is the purpose of the agreement known as ...</td>\n",
       "      <td>The purpose of the agreement known as 30x30 is...</td>\n",
       "      <td>Based on the provided context, the purpose of ...</td>\n",
       "      <td>- These include the agreement known as 30x30, ...</td>\n",
       "    </tr>\n",
       "    <tr>\n",
       "      <th>14</th>\n",
       "      <td>Who failed to explicitly recognize Indigenous ...</td>\n",
       "      <td>The States failed to explicitly recognize Indi...</td>\n",
       "      <td>States failed to explicitly recognize Indigeno...</td>\n",
       "      <td>Unfortunately, at COP15, States failed to expl...</td>\n",
       "    </tr>\n",
       "    <tr>\n",
       "      <th>15</th>\n",
       "      <td>What are the consequences of criminalizing abo...</td>\n",
       "      <td>The consequences of criminalizing abortion for...</td>\n",
       "      <td>Based on the provided context, the consequence...</td>\n",
       "      <td>- Abortion criminalization contributes to stig...</td>\n",
       "    </tr>\n",
       "    <tr>\n",
       "      <th>16</th>\n",
       "      <td>What responsibilities should social media comp...</td>\n",
       "      <td>Social media companies should have the respons...</td>\n",
       "      <td>According to the provided context, social medi...</td>\n",
       "      <td>Social media companies involved in facilitatin...</td>\n",
       "    </tr>\n",
       "    <tr>\n",
       "      <th>17</th>\n",
       "      <td>What role do social media companies play in pr...</td>\n",
       "      <td>Social media companies play a role in protecti...</td>\n",
       "      <td>According to the provided context, social medi...</td>\n",
       "      <td>Companies, including social media companies, h...</td>\n",
       "    </tr>\n",
       "    <tr>\n",
       "      <th>18</th>\n",
       "      <td>What labor abuses were documented by Amnesty I...</td>\n",
       "      <td>Amnesty International documented labor abuses ...</td>\n",
       "      <td>Based on the provided context, Amnesty Interna...</td>\n",
       "      <td>During the tournament, Amnesty International d...</td>\n",
       "    </tr>\n",
       "    <tr>\n",
       "      <th>19</th>\n",
       "      <td>When did the government of Qatar start repeali...</td>\n",
       "      <td>The government of Qatar started repealing rest...</td>\n",
       "      <td>According to the provided context, the governm...</td>\n",
       "      <td>Between 2018 and 2020, the government took imp...</td>\n",
       "    </tr>\n",
       "  </tbody>\n",
       "</table>\n",
       "</div>"
      ],
      "text/plain": [
       "                                             question  \\\n",
       "0   What are the global implications of the USA Su...   \n",
       "1   Which companies are the main contributors to G...   \n",
       "2   Which private companies in the Americas are th...   \n",
       "3   What action did Amnesty International urge its...   \n",
       "4   What are the recommendations made by Amnesty I...   \n",
       "5   Who are the target audience of the two books c...   \n",
       "6   Which right guarantees access to comprehensive...   \n",
       "7   Who has the right to be fully informed about h...   \n",
       "8   When can individuals be found guilty under Art...   \n",
       "9   When does the prosecution consider statements ...   \n",
       "10  What factors have contributed to the decline o...   \n",
       "11  What conditions designate wetlands as Ramsar s...   \n",
       "12                      Where was COP15 held in 2022?   \n",
       "13  What is the purpose of the agreement known as ...   \n",
       "14  Who failed to explicitly recognize Indigenous ...   \n",
       "15  What are the consequences of criminalizing abo...   \n",
       "16  What responsibilities should social media comp...   \n",
       "17  What role do social media companies play in pr...   \n",
       "18  What labor abuses were documented by Amnesty I...   \n",
       "19  When did the government of Qatar start repeali...   \n",
       "\n",
       "                                         ground_truth  \\\n",
       "0   The global implications of the USA Supreme Cou...   \n",
       "1   According to the Carbon Majors database, the m...   \n",
       "2   The largest private companies in the Americas ...   \n",
       "3   Amnesty International urged its supporters to ...   \n",
       "4   The recommendations made by Amnesty Internatio...   \n",
       "5   The target audience of the two books created b...   \n",
       "6   The right that guarantees access to comprehens...   \n",
       "7   The victims of gross human rights violations a...   \n",
       "8   Individuals can be found guilty under Article ...   \n",
       "9   The prosecution considers statements contrary ...   \n",
       "10  The factors that have contributed to the decli...   \n",
       "11  The conditions that designate wetlands as Rams...   \n",
       "12        COP15 was held in Montreal, Canada in 2022.   \n",
       "13  The purpose of the agreement known as 30x30 is...   \n",
       "14  The States failed to explicitly recognize Indi...   \n",
       "15  The consequences of criminalizing abortion for...   \n",
       "16  Social media companies should have the respons...   \n",
       "17  Social media companies play a role in protecti...   \n",
       "18  Amnesty International documented labor abuses ...   \n",
       "19  The government of Qatar started repealing rest...   \n",
       "\n",
       "                                               answer  \\\n",
       "0   Based on the provided context, the global impl...   \n",
       "1   According to the provided information, the mai...   \n",
       "2   According to the context, the private companie...   \n",
       "3   Based on the provided context, Amnesty Interna...   \n",
       "4   According to the provided context, the recomme...   \n",
       "5   Based on the provided context, the target audi...   \n",
       "6   According to the provided context, the right t...   \n",
       "7   According to the provided context, the victims...   \n",
       "8   According to the provided context, individuals...   \n",
       "9   According to the context, the prosecution cons...   \n",
       "10  Based on the provided context, the factors tha...   \n",
       "11  Based on the provided context, the conditions ...   \n",
       "12  According to the provided context, COP15 (the ...   \n",
       "13  Based on the provided context, the purpose of ...   \n",
       "14  States failed to explicitly recognize Indigeno...   \n",
       "15  Based on the provided context, the consequence...   \n",
       "16  According to the provided context, social medi...   \n",
       "17  According to the provided context, social medi...   \n",
       "18  Based on the provided context, Amnesty Interna...   \n",
       "19  According to the provided context, the governm...   \n",
       "\n",
       "                                             contexts  \n",
       "0   - In 2022, the USA Supreme Court handed down a...  \n",
       "1   - Fossil fuel companies, whether state or priv...  \n",
       "2   The private companies responsible for the most...  \n",
       "3   Amnesty International called on its vast netwo...  \n",
       "4   Amnesty International recommends that the Spec...  \n",
       "5   Amnesty International has therefore created tw...  \n",
       "6   26. The Act raises serious questions about its...  \n",
       "7   - The victims of gross human rights violations...  \n",
       "8   - As long as their statements are contrary to ...  \n",
       "9   - As long as their statements are contrary to ...  \n",
       "10  - \"arrests and harassment of human rights defe...  \n",
       "11  - \"Ramsar sites are designated when they fulfi...  \n",
       "12  - These include the agreement known as 30x30, ...  \n",
       "13  - These include the agreement known as 30x30, ...  \n",
       "14  Unfortunately, at COP15, States failed to expl...  \n",
       "15  - Abortion criminalization contributes to stig...  \n",
       "16  Social media companies involved in facilitatin...  \n",
       "17  Companies, including social media companies, h...  \n",
       "18  During the tournament, Amnesty International d...  \n",
       "19  Between 2018 and 2020, the government took imp...  "
      ]
     },
     "execution_count": 11,
     "metadata": {},
     "output_type": "execute_result"
    }
   ],
   "source": [
    "new_df"
   ]
  },
  {
   "cell_type": "markdown",
   "metadata": {},
   "source": [
    "## Save The Result"
   ]
  },
  {
   "cell_type": "code",
   "execution_count": 13,
   "metadata": {},
   "outputs": [
    {
     "data": {
      "text/plain": [
       "\"The global implications of the USA Supreme Court ruling on abortion can be significant, as it sets a precedent for other countries and influences the global discourse on reproductive rights. Here are some potential implications:\\n\\n1. Influence on other countries: The Supreme Court's ruling can serve as a reference point for other countries grappling with their own abortion laws. It can provide legal arguments and reasoning that advocates for reproductive rights can use to challenge restrictive abortion laws in their respective jurisdictions.\\n\\n2. Strengthening of global reproductive rights movements: A favorable ruling by the Supreme Court can energize and empower reproductive rights movements worldwide. It can serve as a rallying point for activists and organizations advocating for women's rights, leading to increased mobilization and advocacy efforts globally.\\n\\n3. Counteracting anti-abortion movements: Conversely, a ruling that restricts abortion rights can embolden anti-abortion movements globally. It can provide legitimacy to their arguments and encourage similar restrictive measures in other countries, potentially leading to a rollback of existing reproductive rights.\\n\\n4. Impact on international aid and policies: The Supreme Court's ruling can influence international aid and policies related to reproductive health. It can shape the priorities and funding decisions of donor countries and organizations, potentially leading to increased support for reproductive rights initiatives or conversely, restrictions on funding for abortion-related services.\\n\\n5. Shaping international human rights standards: The ruling can contribute to the development of international human rights standards regarding reproductive rights. It can influence the interpretation and application of existing human rights treaties and conventions, potentially strengthening the recognition of reproductive rights as fundamental human rights globally.\\n\\n6. Global health implications: The Supreme Court's ruling can have implications for global health outcomes, particularly in countries with restrictive abortion laws. It can impact the availability and accessibility of safe and legal abortion services, potentially leading to an increase in unsafe abortions and related health complications.\\n\\nIt is important to note that the specific implications will depend on the nature of the Supreme Court ruling and the subsequent actions taken by governments, activists, and organizations both within and outside the United States.\""
      ]
     },
     "execution_count": 13,
     "metadata": {},
     "output_type": "execute_result"
    }
   ],
   "source": [
    "df.loc[0, 'answer']"
   ]
  },
  {
   "cell_type": "code",
   "execution_count": 14,
   "metadata": {},
   "outputs": [
    {
     "data": {
      "text/plain": [
       "'Based on the provided context, the global implications of the USA Supreme Court ruling on abortion include:\\n\\n* Fear among SRR organizations and activists about the ruling laying the groundwork for anti-abortion legislative and policy attacks in other countries.\\n* The stalling or halting of progressive law reform and the adoption and enforcement of abortion guidelines in certain African countries.\\n* A chilling effect in international policy spaces, emboldening anti-abortion state and non-state actors to undermine human rights protections.\\n\\nNote: These implications are based on the provided context and do not reflect my own knowledge.'"
      ]
     },
     "execution_count": 14,
     "metadata": {},
     "output_type": "execute_result"
    }
   ],
   "source": [
    "new_df.loc[0, 'answer']"
   ]
  },
  {
   "cell_type": "code",
   "execution_count": 12,
   "metadata": {},
   "outputs": [],
   "source": [
    "new_df.to_csv(\"results/llama3_question_answering_responses.csv\",index=False)"
   ]
  },
  {
   "cell_type": "markdown",
   "metadata": {},
   "source": [
    "# Using Ragas For Evaluation"
   ]
  },
  {
   "cell_type": "markdown",
   "metadata": {},
   "source": [
    "Read the csv file"
   ]
  },
  {
   "cell_type": "code",
   "execution_count": 15,
   "metadata": {},
   "outputs": [
    {
     "data": {
      "text/html": [
       "<div>\n",
       "<style scoped>\n",
       "    .dataframe tbody tr th:only-of-type {\n",
       "        vertical-align: middle;\n",
       "    }\n",
       "\n",
       "    .dataframe tbody tr th {\n",
       "        vertical-align: top;\n",
       "    }\n",
       "\n",
       "    .dataframe thead th {\n",
       "        text-align: right;\n",
       "    }\n",
       "</style>\n",
       "<table border=\"1\" class=\"dataframe\">\n",
       "  <thead>\n",
       "    <tr style=\"text-align: right;\">\n",
       "      <th></th>\n",
       "      <th>question</th>\n",
       "      <th>ground_truth</th>\n",
       "      <th>answer</th>\n",
       "      <th>contexts</th>\n",
       "    </tr>\n",
       "  </thead>\n",
       "  <tbody>\n",
       "    <tr>\n",
       "      <th>0</th>\n",
       "      <td>What are the global implications of the USA Su...</td>\n",
       "      <td>The global implications of the USA Supreme Cou...</td>\n",
       "      <td>Based on the provided context, the global impl...</td>\n",
       "      <td>- In 2022, the USA Supreme Court handed down a...</td>\n",
       "    </tr>\n",
       "    <tr>\n",
       "      <th>1</th>\n",
       "      <td>Which companies are the main contributors to G...</td>\n",
       "      <td>According to the Carbon Majors database, the m...</td>\n",
       "      <td>According to the provided information, the mai...</td>\n",
       "      <td>- Fossil fuel companies, whether state or priv...</td>\n",
       "    </tr>\n",
       "    <tr>\n",
       "      <th>2</th>\n",
       "      <td>Which private companies in the Americas are th...</td>\n",
       "      <td>The largest private companies in the Americas ...</td>\n",
       "      <td>According to the context, the private companie...</td>\n",
       "      <td>The private companies responsible for the most...</td>\n",
       "    </tr>\n",
       "    <tr>\n",
       "      <th>3</th>\n",
       "      <td>What action did Amnesty International urge its...</td>\n",
       "      <td>Amnesty International urged its supporters to ...</td>\n",
       "      <td>Based on the provided context, Amnesty Interna...</td>\n",
       "      <td>Amnesty International called on its vast netwo...</td>\n",
       "    </tr>\n",
       "    <tr>\n",
       "      <th>4</th>\n",
       "      <td>What are the recommendations made by Amnesty I...</td>\n",
       "      <td>The recommendations made by Amnesty Internatio...</td>\n",
       "      <td>According to the provided context, the recomme...</td>\n",
       "      <td>Amnesty International recommends that the Spec...</td>\n",
       "    </tr>\n",
       "  </tbody>\n",
       "</table>\n",
       "</div>"
      ],
      "text/plain": [
       "                                            question  \\\n",
       "0  What are the global implications of the USA Su...   \n",
       "1  Which companies are the main contributors to G...   \n",
       "2  Which private companies in the Americas are th...   \n",
       "3  What action did Amnesty International urge its...   \n",
       "4  What are the recommendations made by Amnesty I...   \n",
       "\n",
       "                                        ground_truth  \\\n",
       "0  The global implications of the USA Supreme Cou...   \n",
       "1  According to the Carbon Majors database, the m...   \n",
       "2  The largest private companies in the Americas ...   \n",
       "3  Amnesty International urged its supporters to ...   \n",
       "4  The recommendations made by Amnesty Internatio...   \n",
       "\n",
       "                                              answer  \\\n",
       "0  Based on the provided context, the global impl...   \n",
       "1  According to the provided information, the mai...   \n",
       "2  According to the context, the private companie...   \n",
       "3  Based on the provided context, Amnesty Interna...   \n",
       "4  According to the provided context, the recomme...   \n",
       "\n",
       "                                            contexts  \n",
       "0  - In 2022, the USA Supreme Court handed down a...  \n",
       "1  - Fossil fuel companies, whether state or priv...  \n",
       "2  The private companies responsible for the most...  \n",
       "3  Amnesty International called on its vast netwo...  \n",
       "4  Amnesty International recommends that the Spec...  "
      ]
     },
     "execution_count": 15,
     "metadata": {},
     "output_type": "execute_result"
    }
   ],
   "source": [
    "df = pd.read_csv('results\\\\llama3_question_answering_responses.csv')\n",
    "df.head()"
   ]
  },
  {
   "cell_type": "markdown",
   "metadata": {},
   "source": [
    "## Import Metrics"
   ]
  },
  {
   "cell_type": "code",
   "execution_count": null,
   "metadata": {},
   "outputs": [],
   "source": [
    "from ragas.metrics import (\n",
    "    answer_relevancy,\n",
    "    faithfulness,\n",
    "    context_recall,\n",
    "    context_precision,\n",
    ")"
   ]
  },
  {
   "cell_type": "code",
   "execution_count": null,
   "metadata": {},
   "outputs": [],
   "source": [
    "df['contexts'] = df['contexts'].apply(lambda x: [x])"
   ]
  },
  {
   "cell_type": "code",
   "execution_count": null,
   "metadata": {},
   "outputs": [],
   "source": [
    "from langchain_openai.chat_models import ChatOpenAI\n",
    "from ragas.llms import LangchainLLMWrapper\n",
    "# Choose the gpt model that you want \n",
    "openai_model = ChatOpenAI(model='gpt-3.5-turbo')\n",
    "llm = LangchainLLMWrapper(openai_model)"
   ]
  },
  {
   "cell_type": "markdown",
   "metadata": {},
   "source": [
    "## Start evaluating the model"
   ]
  },
  {
   "cell_type": "code",
   "execution_count": null,
   "metadata": {},
   "outputs": [],
   "source": [
    "from ragas import evaluate\n",
    "from datasets import Dataset\n",
    "\n",
    "result = evaluate(\n",
    "    Dataset.from_pandas(df.iloc[[18]]),\n",
    "    metrics=[\n",
    "        context_precision,\n",
    "        faithfulness,\n",
    "        answer_relevancy,\n",
    "        context_recall,\n",
    "    ],\n",
    "    llm=llm\n",
    ")\n",
    "\n",
    "result"
   ]
  },
  {
   "cell_type": "code",
   "execution_count": null,
   "metadata": {},
   "outputs": [],
   "source": [
    "res_df = result.to_pandas()\n",
    "res_df"
   ]
  },
  {
   "cell_type": "markdown",
   "metadata": {},
   "source": [
    "## Save The Result"
   ]
  },
  {
   "cell_type": "code",
   "execution_count": null,
   "metadata": {},
   "outputs": [],
   "source": [
    "res_df.drop('__index_level_0__',axis=1,inplace=True)\n",
    "res_df.to_csv('results/llama3_8b_evaluation.csv',index=False)"
   ]
  },
  {
   "cell_type": "markdown",
   "metadata": {},
   "source": [
    "# Visualize The Result\n",
    "## LLMs Throughput chart"
   ]
  },
  {
   "cell_type": "code",
   "execution_count": 32,
   "metadata": {},
   "outputs": [
    {
     "data": {
      "application/vnd.plotly.v1+json": {
       "config": {
        "plotlyServerURL": "https://plot.ly"
       },
       "data": [
        {
         "marker": {
          "color": "skyblue"
         },
         "text": [
          2.538,
          2.35,
          0.911,
          1.808
         ],
         "textposition": "auto",
         "type": "bar",
         "x": [
          "mistral:7b",
          "llama2:7b",
          "llama2:13b",
          "llama3:8b"
         ],
         "y": [
          2.538,
          2.35,
          0.911,
          1.808
         ]
        }
       ],
       "layout": {
        "annotations": [
         {
          "font": {
           "color": "black",
           "size": 12
          },
          "showarrow": false,
          "text": "Machine Configuration:",
          "x": 1,
          "xref": "paper",
          "y": 1,
          "yref": "paper"
         },
         {
          "font": {
           "color": "black",
           "size": 10
          },
          "showarrow": false,
          "text": "Memory: 31.79 GB",
          "x": 1,
          "xref": "paper",
          "y": 0.95,
          "yref": "paper"
         },
         {
          "font": {
           "color": "black",
           "size": 10
          },
          "showarrow": false,
          "text": "CPU Info: Intel(R) Core(TM) i7-8565U CPU @ 1.80GHz",
          "x": 1,
          "xref": "paper",
          "y": 0.9,
          "yref": "paper"
         },
         {
          "font": {
           "color": "black",
           "size": 10
          },
          "showarrow": false,
          "text": "GPU Info: Intel(R) UHD Graphics 620",
          "x": 1,
          "xref": "paper",
          "y": 0.85,
          "yref": "paper"
         },
         {
          "font": {
           "color": "black",
           "size": 10
          },
          "showarrow": false,
          "text": "OS Version: Microsoft Windows 10 Pro",
          "x": 1,
          "xref": "paper",
          "y": 0.8,
          "yref": "paper"
         }
        ],
        "template": {
         "data": {
          "bar": [
           {
            "error_x": {
             "color": "#2a3f5f"
            },
            "error_y": {
             "color": "#2a3f5f"
            },
            "marker": {
             "line": {
              "color": "#E5ECF6",
              "width": 0.5
             },
             "pattern": {
              "fillmode": "overlay",
              "size": 10,
              "solidity": 0.2
             }
            },
            "type": "bar"
           }
          ],
          "barpolar": [
           {
            "marker": {
             "line": {
              "color": "#E5ECF6",
              "width": 0.5
             },
             "pattern": {
              "fillmode": "overlay",
              "size": 10,
              "solidity": 0.2
             }
            },
            "type": "barpolar"
           }
          ],
          "carpet": [
           {
            "aaxis": {
             "endlinecolor": "#2a3f5f",
             "gridcolor": "white",
             "linecolor": "white",
             "minorgridcolor": "white",
             "startlinecolor": "#2a3f5f"
            },
            "baxis": {
             "endlinecolor": "#2a3f5f",
             "gridcolor": "white",
             "linecolor": "white",
             "minorgridcolor": "white",
             "startlinecolor": "#2a3f5f"
            },
            "type": "carpet"
           }
          ],
          "choropleth": [
           {
            "colorbar": {
             "outlinewidth": 0,
             "ticks": ""
            },
            "type": "choropleth"
           }
          ],
          "contour": [
           {
            "colorbar": {
             "outlinewidth": 0,
             "ticks": ""
            },
            "colorscale": [
             [
              0,
              "#0d0887"
             ],
             [
              0.1111111111111111,
              "#46039f"
             ],
             [
              0.2222222222222222,
              "#7201a8"
             ],
             [
              0.3333333333333333,
              "#9c179e"
             ],
             [
              0.4444444444444444,
              "#bd3786"
             ],
             [
              0.5555555555555556,
              "#d8576b"
             ],
             [
              0.6666666666666666,
              "#ed7953"
             ],
             [
              0.7777777777777778,
              "#fb9f3a"
             ],
             [
              0.8888888888888888,
              "#fdca26"
             ],
             [
              1,
              "#f0f921"
             ]
            ],
            "type": "contour"
           }
          ],
          "contourcarpet": [
           {
            "colorbar": {
             "outlinewidth": 0,
             "ticks": ""
            },
            "type": "contourcarpet"
           }
          ],
          "heatmap": [
           {
            "colorbar": {
             "outlinewidth": 0,
             "ticks": ""
            },
            "colorscale": [
             [
              0,
              "#0d0887"
             ],
             [
              0.1111111111111111,
              "#46039f"
             ],
             [
              0.2222222222222222,
              "#7201a8"
             ],
             [
              0.3333333333333333,
              "#9c179e"
             ],
             [
              0.4444444444444444,
              "#bd3786"
             ],
             [
              0.5555555555555556,
              "#d8576b"
             ],
             [
              0.6666666666666666,
              "#ed7953"
             ],
             [
              0.7777777777777778,
              "#fb9f3a"
             ],
             [
              0.8888888888888888,
              "#fdca26"
             ],
             [
              1,
              "#f0f921"
             ]
            ],
            "type": "heatmap"
           }
          ],
          "heatmapgl": [
           {
            "colorbar": {
             "outlinewidth": 0,
             "ticks": ""
            },
            "colorscale": [
             [
              0,
              "#0d0887"
             ],
             [
              0.1111111111111111,
              "#46039f"
             ],
             [
              0.2222222222222222,
              "#7201a8"
             ],
             [
              0.3333333333333333,
              "#9c179e"
             ],
             [
              0.4444444444444444,
              "#bd3786"
             ],
             [
              0.5555555555555556,
              "#d8576b"
             ],
             [
              0.6666666666666666,
              "#ed7953"
             ],
             [
              0.7777777777777778,
              "#fb9f3a"
             ],
             [
              0.8888888888888888,
              "#fdca26"
             ],
             [
              1,
              "#f0f921"
             ]
            ],
            "type": "heatmapgl"
           }
          ],
          "histogram": [
           {
            "marker": {
             "pattern": {
              "fillmode": "overlay",
              "size": 10,
              "solidity": 0.2
             }
            },
            "type": "histogram"
           }
          ],
          "histogram2d": [
           {
            "colorbar": {
             "outlinewidth": 0,
             "ticks": ""
            },
            "colorscale": [
             [
              0,
              "#0d0887"
             ],
             [
              0.1111111111111111,
              "#46039f"
             ],
             [
              0.2222222222222222,
              "#7201a8"
             ],
             [
              0.3333333333333333,
              "#9c179e"
             ],
             [
              0.4444444444444444,
              "#bd3786"
             ],
             [
              0.5555555555555556,
              "#d8576b"
             ],
             [
              0.6666666666666666,
              "#ed7953"
             ],
             [
              0.7777777777777778,
              "#fb9f3a"
             ],
             [
              0.8888888888888888,
              "#fdca26"
             ],
             [
              1,
              "#f0f921"
             ]
            ],
            "type": "histogram2d"
           }
          ],
          "histogram2dcontour": [
           {
            "colorbar": {
             "outlinewidth": 0,
             "ticks": ""
            },
            "colorscale": [
             [
              0,
              "#0d0887"
             ],
             [
              0.1111111111111111,
              "#46039f"
             ],
             [
              0.2222222222222222,
              "#7201a8"
             ],
             [
              0.3333333333333333,
              "#9c179e"
             ],
             [
              0.4444444444444444,
              "#bd3786"
             ],
             [
              0.5555555555555556,
              "#d8576b"
             ],
             [
              0.6666666666666666,
              "#ed7953"
             ],
             [
              0.7777777777777778,
              "#fb9f3a"
             ],
             [
              0.8888888888888888,
              "#fdca26"
             ],
             [
              1,
              "#f0f921"
             ]
            ],
            "type": "histogram2dcontour"
           }
          ],
          "mesh3d": [
           {
            "colorbar": {
             "outlinewidth": 0,
             "ticks": ""
            },
            "type": "mesh3d"
           }
          ],
          "parcoords": [
           {
            "line": {
             "colorbar": {
              "outlinewidth": 0,
              "ticks": ""
             }
            },
            "type": "parcoords"
           }
          ],
          "pie": [
           {
            "automargin": true,
            "type": "pie"
           }
          ],
          "scatter": [
           {
            "fillpattern": {
             "fillmode": "overlay",
             "size": 10,
             "solidity": 0.2
            },
            "type": "scatter"
           }
          ],
          "scatter3d": [
           {
            "line": {
             "colorbar": {
              "outlinewidth": 0,
              "ticks": ""
             }
            },
            "marker": {
             "colorbar": {
              "outlinewidth": 0,
              "ticks": ""
             }
            },
            "type": "scatter3d"
           }
          ],
          "scattercarpet": [
           {
            "marker": {
             "colorbar": {
              "outlinewidth": 0,
              "ticks": ""
             }
            },
            "type": "scattercarpet"
           }
          ],
          "scattergeo": [
           {
            "marker": {
             "colorbar": {
              "outlinewidth": 0,
              "ticks": ""
             }
            },
            "type": "scattergeo"
           }
          ],
          "scattergl": [
           {
            "marker": {
             "colorbar": {
              "outlinewidth": 0,
              "ticks": ""
             }
            },
            "type": "scattergl"
           }
          ],
          "scattermapbox": [
           {
            "marker": {
             "colorbar": {
              "outlinewidth": 0,
              "ticks": ""
             }
            },
            "type": "scattermapbox"
           }
          ],
          "scatterpolar": [
           {
            "marker": {
             "colorbar": {
              "outlinewidth": 0,
              "ticks": ""
             }
            },
            "type": "scatterpolar"
           }
          ],
          "scatterpolargl": [
           {
            "marker": {
             "colorbar": {
              "outlinewidth": 0,
              "ticks": ""
             }
            },
            "type": "scatterpolargl"
           }
          ],
          "scatterternary": [
           {
            "marker": {
             "colorbar": {
              "outlinewidth": 0,
              "ticks": ""
             }
            },
            "type": "scatterternary"
           }
          ],
          "surface": [
           {
            "colorbar": {
             "outlinewidth": 0,
             "ticks": ""
            },
            "colorscale": [
             [
              0,
              "#0d0887"
             ],
             [
              0.1111111111111111,
              "#46039f"
             ],
             [
              0.2222222222222222,
              "#7201a8"
             ],
             [
              0.3333333333333333,
              "#9c179e"
             ],
             [
              0.4444444444444444,
              "#bd3786"
             ],
             [
              0.5555555555555556,
              "#d8576b"
             ],
             [
              0.6666666666666666,
              "#ed7953"
             ],
             [
              0.7777777777777778,
              "#fb9f3a"
             ],
             [
              0.8888888888888888,
              "#fdca26"
             ],
             [
              1,
              "#f0f921"
             ]
            ],
            "type": "surface"
           }
          ],
          "table": [
           {
            "cells": {
             "fill": {
              "color": "#EBF0F8"
             },
             "line": {
              "color": "white"
             }
            },
            "header": {
             "fill": {
              "color": "#C8D4E3"
             },
             "line": {
              "color": "white"
             }
            },
            "type": "table"
           }
          ]
         },
         "layout": {
          "annotationdefaults": {
           "arrowcolor": "#2a3f5f",
           "arrowhead": 0,
           "arrowwidth": 1
          },
          "autotypenumbers": "strict",
          "coloraxis": {
           "colorbar": {
            "outlinewidth": 0,
            "ticks": ""
           }
          },
          "colorscale": {
           "diverging": [
            [
             0,
             "#8e0152"
            ],
            [
             0.1,
             "#c51b7d"
            ],
            [
             0.2,
             "#de77ae"
            ],
            [
             0.3,
             "#f1b6da"
            ],
            [
             0.4,
             "#fde0ef"
            ],
            [
             0.5,
             "#f7f7f7"
            ],
            [
             0.6,
             "#e6f5d0"
            ],
            [
             0.7,
             "#b8e186"
            ],
            [
             0.8,
             "#7fbc41"
            ],
            [
             0.9,
             "#4d9221"
            ],
            [
             1,
             "#276419"
            ]
           ],
           "sequential": [
            [
             0,
             "#0d0887"
            ],
            [
             0.1111111111111111,
             "#46039f"
            ],
            [
             0.2222222222222222,
             "#7201a8"
            ],
            [
             0.3333333333333333,
             "#9c179e"
            ],
            [
             0.4444444444444444,
             "#bd3786"
            ],
            [
             0.5555555555555556,
             "#d8576b"
            ],
            [
             0.6666666666666666,
             "#ed7953"
            ],
            [
             0.7777777777777778,
             "#fb9f3a"
            ],
            [
             0.8888888888888888,
             "#fdca26"
            ],
            [
             1,
             "#f0f921"
            ]
           ],
           "sequentialminus": [
            [
             0,
             "#0d0887"
            ],
            [
             0.1111111111111111,
             "#46039f"
            ],
            [
             0.2222222222222222,
             "#7201a8"
            ],
            [
             0.3333333333333333,
             "#9c179e"
            ],
            [
             0.4444444444444444,
             "#bd3786"
            ],
            [
             0.5555555555555556,
             "#d8576b"
            ],
            [
             0.6666666666666666,
             "#ed7953"
            ],
            [
             0.7777777777777778,
             "#fb9f3a"
            ],
            [
             0.8888888888888888,
             "#fdca26"
            ],
            [
             1,
             "#f0f921"
            ]
           ]
          },
          "colorway": [
           "#636efa",
           "#EF553B",
           "#00cc96",
           "#ab63fa",
           "#FFA15A",
           "#19d3f3",
           "#FF6692",
           "#B6E880",
           "#FF97FF",
           "#FECB52"
          ],
          "font": {
           "color": "#2a3f5f"
          },
          "geo": {
           "bgcolor": "white",
           "lakecolor": "white",
           "landcolor": "#E5ECF6",
           "showlakes": true,
           "showland": true,
           "subunitcolor": "white"
          },
          "hoverlabel": {
           "align": "left"
          },
          "hovermode": "closest",
          "mapbox": {
           "style": "light"
          },
          "paper_bgcolor": "white",
          "plot_bgcolor": "#E5ECF6",
          "polar": {
           "angularaxis": {
            "gridcolor": "white",
            "linecolor": "white",
            "ticks": ""
           },
           "bgcolor": "#E5ECF6",
           "radialaxis": {
            "gridcolor": "white",
            "linecolor": "white",
            "ticks": ""
           }
          },
          "scene": {
           "xaxis": {
            "backgroundcolor": "#E5ECF6",
            "gridcolor": "white",
            "gridwidth": 2,
            "linecolor": "white",
            "showbackground": true,
            "ticks": "",
            "zerolinecolor": "white"
           },
           "yaxis": {
            "backgroundcolor": "#E5ECF6",
            "gridcolor": "white",
            "gridwidth": 2,
            "linecolor": "white",
            "showbackground": true,
            "ticks": "",
            "zerolinecolor": "white"
           },
           "zaxis": {
            "backgroundcolor": "#E5ECF6",
            "gridcolor": "white",
            "gridwidth": 2,
            "linecolor": "white",
            "showbackground": true,
            "ticks": "",
            "zerolinecolor": "white"
           }
          },
          "shapedefaults": {
           "line": {
            "color": "#2a3f5f"
           }
          },
          "ternary": {
           "aaxis": {
            "gridcolor": "white",
            "linecolor": "white",
            "ticks": ""
           },
           "baxis": {
            "gridcolor": "white",
            "linecolor": "white",
            "ticks": ""
           },
           "bgcolor": "#E5ECF6",
           "caxis": {
            "gridcolor": "white",
            "linecolor": "white",
            "ticks": ""
           }
          },
          "title": {
           "x": 0.05
          },
          "xaxis": {
           "automargin": true,
           "gridcolor": "white",
           "linecolor": "white",
           "ticks": "",
           "title": {
            "standoff": 15
           },
           "zerolinecolor": "white",
           "zerolinewidth": 2
          },
          "yaxis": {
           "automargin": true,
           "gridcolor": "white",
           "linecolor": "white",
           "ticks": "",
           "title": {
            "standoff": 15
           },
           "zerolinecolor": "white",
           "zerolinewidth": 2
          }
         }
        },
        "title": {
         "text": "Throughput (tokens/seconds) by llm"
        },
        "xaxis": {
         "tickangle": 45,
         "title": {
          "text": "LLM"
         }
        },
        "yaxis": {
         "tickformat": ".2f",
         "title": {
          "text": "Throughput"
         }
        }
       }
      }
     },
     "metadata": {},
     "output_type": "display_data"
    }
   ],
   "source": [
    "import pandas as pd\n",
    "import plotly.graph_objects as go\n",
    "\n",
    "df = pd.read_csv('results/llms_throughput.csv')\n",
    "\n",
    "fig = go.Figure(data=[go.Bar(\n",
    "    x=df['llm'],\n",
    "    y=df['throughput'],\n",
    "    text=df['throughput'],\n",
    "    textposition='auto',\n",
    "    marker=dict(color='skyblue')\n",
    ")])\n",
    "\n",
    "fig.update_layout(\n",
    "    title='Throughput (tokens/seconds) by llm',\n",
    "    xaxis_title='LLM',\n",
    "    yaxis_title='Throughput',\n",
    "    xaxis=dict(tickangle=45),\n",
    "    yaxis=dict(tickformat=\".2f\"),\n",
    "    annotations=[\n",
    "        dict(\n",
    "            x=1,\n",
    "            y=1,\n",
    "            xref='paper',\n",
    "            yref='paper',\n",
    "            text='Machine Configuration:',\n",
    "            showarrow=False,\n",
    "            font=dict(\n",
    "                size=12,\n",
    "                color='black'\n",
    "            )\n",
    "        ),\n",
    "        dict(\n",
    "            x=1,\n",
    "            y=0.95,\n",
    "            xref='paper',\n",
    "            yref='paper',\n",
    "            text='Memory: 31.79 GB',\n",
    "            showarrow=False,\n",
    "            font=dict(\n",
    "                size=10,\n",
    "                color='black'\n",
    "            )\n",
    "        ),\n",
    "        dict(\n",
    "            x=1,\n",
    "            y=0.90,\n",
    "            xref='paper',\n",
    "            yref='paper',\n",
    "            text='CPU Info: Intel(R) Core(TM) i7-8565U CPU @ 1.80GHz',\n",
    "            showarrow=False,\n",
    "            font=dict(\n",
    "                size=10,\n",
    "                color='black'\n",
    "            )\n",
    "        ),\n",
    "        dict(\n",
    "            x=1,\n",
    "            y=0.85,\n",
    "            xref='paper',\n",
    "            yref='paper',\n",
    "            text='GPU Info: Intel(R) UHD Graphics 620',\n",
    "            showarrow=False,\n",
    "            font=dict(\n",
    "                size=10,\n",
    "                color='black'\n",
    "            )\n",
    "        ),\n",
    "        dict(\n",
    "            x=1,\n",
    "            y=0.80,\n",
    "            xref='paper',\n",
    "            yref='paper',\n",
    "            text='OS Version: Microsoft Windows 10 Pro',\n",
    "            showarrow=False,\n",
    "            font=dict(\n",
    "                size=10,\n",
    "                color='black'\n",
    "            )\n",
    "        )\n",
    "    ]\n",
    ")\n",
    "\n",
    "fig.show()"
   ]
  },
  {
   "cell_type": "markdown",
   "metadata": {},
   "source": [
    "## Metrics Chart"
   ]
  },
  {
   "cell_type": "markdown",
   "metadata": {},
   "source": [
    "1. **Faithfulness** : Measures the factual consistency of the answer to the context based on the question.\n",
    "\n",
    "2. **Context_precision** : Measures how relevant the retrieved context is to the question, conveying the quality of the retrieval pipeline.\n",
    "\n",
    "3. **Answer_relevancy** : Measures how relevant the answer is to the question.\n",
    "\n",
    "4. **Context_recall** : Measures the retriever’s ability to retrieve all necessary information required to answer the question."
   ]
  },
  {
   "cell_type": "code",
   "execution_count": 33,
   "metadata": {},
   "outputs": [
    {
     "data": {
      "application/vnd.plotly.v1+json": {
       "config": {
        "plotlyServerURL": "https://plot.ly"
       },
       "data": [
        {
         "marker": {
          "color": "orange"
         },
         "name": "Mistral 7b",
         "type": "bar",
         "x": [
          "context_precision",
          "faithfulness",
          "answer_relevancy",
          "context_recall"
         ],
         "y": [
          0.9999999998999997,
          0.9533333333333334,
          0.9611554601181606,
          0.9225
         ]
        },
        {
         "marker": {
          "color": "skyblue"
         },
         "name": "LLama2 7b",
         "type": "bar",
         "x": [
          "context_precision",
          "faithfulness",
          "answer_relevancy",
          "context_recall"
         ],
         "y": [
          0.9999999998999997,
          0.9800000000000001,
          0.926959675989502,
          0.9141666666666666
         ]
        },
        {
         "marker": {
          "color": "green"
         },
         "name": "LLama2 13b",
         "type": "bar",
         "x": [
          "context_precision",
          "faithfulness",
          "answer_relevancy",
          "context_recall"
         ],
         "y": [
          1,
          0.9055,
          0.9092788217499999,
          0.8079999999999998
         ]
        },
        {
         "marker": {
          "color": "#9467bd"
         },
         "name": "LLama3 8b",
         "type": "bar",
         "x": [
          "context_precision",
          "faithfulness",
          "answer_relevancy",
          "context_recall"
         ],
         "y": [
          0.9999999998999997,
          1,
          0.9567262662653218,
          0.9433333333333334
         ]
        }
       ],
       "layout": {
        "barmode": "group",
        "template": {
         "data": {
          "bar": [
           {
            "error_x": {
             "color": "#2a3f5f"
            },
            "error_y": {
             "color": "#2a3f5f"
            },
            "marker": {
             "line": {
              "color": "#E5ECF6",
              "width": 0.5
             },
             "pattern": {
              "fillmode": "overlay",
              "size": 10,
              "solidity": 0.2
             }
            },
            "type": "bar"
           }
          ],
          "barpolar": [
           {
            "marker": {
             "line": {
              "color": "#E5ECF6",
              "width": 0.5
             },
             "pattern": {
              "fillmode": "overlay",
              "size": 10,
              "solidity": 0.2
             }
            },
            "type": "barpolar"
           }
          ],
          "carpet": [
           {
            "aaxis": {
             "endlinecolor": "#2a3f5f",
             "gridcolor": "white",
             "linecolor": "white",
             "minorgridcolor": "white",
             "startlinecolor": "#2a3f5f"
            },
            "baxis": {
             "endlinecolor": "#2a3f5f",
             "gridcolor": "white",
             "linecolor": "white",
             "minorgridcolor": "white",
             "startlinecolor": "#2a3f5f"
            },
            "type": "carpet"
           }
          ],
          "choropleth": [
           {
            "colorbar": {
             "outlinewidth": 0,
             "ticks": ""
            },
            "type": "choropleth"
           }
          ],
          "contour": [
           {
            "colorbar": {
             "outlinewidth": 0,
             "ticks": ""
            },
            "colorscale": [
             [
              0,
              "#0d0887"
             ],
             [
              0.1111111111111111,
              "#46039f"
             ],
             [
              0.2222222222222222,
              "#7201a8"
             ],
             [
              0.3333333333333333,
              "#9c179e"
             ],
             [
              0.4444444444444444,
              "#bd3786"
             ],
             [
              0.5555555555555556,
              "#d8576b"
             ],
             [
              0.6666666666666666,
              "#ed7953"
             ],
             [
              0.7777777777777778,
              "#fb9f3a"
             ],
             [
              0.8888888888888888,
              "#fdca26"
             ],
             [
              1,
              "#f0f921"
             ]
            ],
            "type": "contour"
           }
          ],
          "contourcarpet": [
           {
            "colorbar": {
             "outlinewidth": 0,
             "ticks": ""
            },
            "type": "contourcarpet"
           }
          ],
          "heatmap": [
           {
            "colorbar": {
             "outlinewidth": 0,
             "ticks": ""
            },
            "colorscale": [
             [
              0,
              "#0d0887"
             ],
             [
              0.1111111111111111,
              "#46039f"
             ],
             [
              0.2222222222222222,
              "#7201a8"
             ],
             [
              0.3333333333333333,
              "#9c179e"
             ],
             [
              0.4444444444444444,
              "#bd3786"
             ],
             [
              0.5555555555555556,
              "#d8576b"
             ],
             [
              0.6666666666666666,
              "#ed7953"
             ],
             [
              0.7777777777777778,
              "#fb9f3a"
             ],
             [
              0.8888888888888888,
              "#fdca26"
             ],
             [
              1,
              "#f0f921"
             ]
            ],
            "type": "heatmap"
           }
          ],
          "heatmapgl": [
           {
            "colorbar": {
             "outlinewidth": 0,
             "ticks": ""
            },
            "colorscale": [
             [
              0,
              "#0d0887"
             ],
             [
              0.1111111111111111,
              "#46039f"
             ],
             [
              0.2222222222222222,
              "#7201a8"
             ],
             [
              0.3333333333333333,
              "#9c179e"
             ],
             [
              0.4444444444444444,
              "#bd3786"
             ],
             [
              0.5555555555555556,
              "#d8576b"
             ],
             [
              0.6666666666666666,
              "#ed7953"
             ],
             [
              0.7777777777777778,
              "#fb9f3a"
             ],
             [
              0.8888888888888888,
              "#fdca26"
             ],
             [
              1,
              "#f0f921"
             ]
            ],
            "type": "heatmapgl"
           }
          ],
          "histogram": [
           {
            "marker": {
             "pattern": {
              "fillmode": "overlay",
              "size": 10,
              "solidity": 0.2
             }
            },
            "type": "histogram"
           }
          ],
          "histogram2d": [
           {
            "colorbar": {
             "outlinewidth": 0,
             "ticks": ""
            },
            "colorscale": [
             [
              0,
              "#0d0887"
             ],
             [
              0.1111111111111111,
              "#46039f"
             ],
             [
              0.2222222222222222,
              "#7201a8"
             ],
             [
              0.3333333333333333,
              "#9c179e"
             ],
             [
              0.4444444444444444,
              "#bd3786"
             ],
             [
              0.5555555555555556,
              "#d8576b"
             ],
             [
              0.6666666666666666,
              "#ed7953"
             ],
             [
              0.7777777777777778,
              "#fb9f3a"
             ],
             [
              0.8888888888888888,
              "#fdca26"
             ],
             [
              1,
              "#f0f921"
             ]
            ],
            "type": "histogram2d"
           }
          ],
          "histogram2dcontour": [
           {
            "colorbar": {
             "outlinewidth": 0,
             "ticks": ""
            },
            "colorscale": [
             [
              0,
              "#0d0887"
             ],
             [
              0.1111111111111111,
              "#46039f"
             ],
             [
              0.2222222222222222,
              "#7201a8"
             ],
             [
              0.3333333333333333,
              "#9c179e"
             ],
             [
              0.4444444444444444,
              "#bd3786"
             ],
             [
              0.5555555555555556,
              "#d8576b"
             ],
             [
              0.6666666666666666,
              "#ed7953"
             ],
             [
              0.7777777777777778,
              "#fb9f3a"
             ],
             [
              0.8888888888888888,
              "#fdca26"
             ],
             [
              1,
              "#f0f921"
             ]
            ],
            "type": "histogram2dcontour"
           }
          ],
          "mesh3d": [
           {
            "colorbar": {
             "outlinewidth": 0,
             "ticks": ""
            },
            "type": "mesh3d"
           }
          ],
          "parcoords": [
           {
            "line": {
             "colorbar": {
              "outlinewidth": 0,
              "ticks": ""
             }
            },
            "type": "parcoords"
           }
          ],
          "pie": [
           {
            "automargin": true,
            "type": "pie"
           }
          ],
          "scatter": [
           {
            "fillpattern": {
             "fillmode": "overlay",
             "size": 10,
             "solidity": 0.2
            },
            "type": "scatter"
           }
          ],
          "scatter3d": [
           {
            "line": {
             "colorbar": {
              "outlinewidth": 0,
              "ticks": ""
             }
            },
            "marker": {
             "colorbar": {
              "outlinewidth": 0,
              "ticks": ""
             }
            },
            "type": "scatter3d"
           }
          ],
          "scattercarpet": [
           {
            "marker": {
             "colorbar": {
              "outlinewidth": 0,
              "ticks": ""
             }
            },
            "type": "scattercarpet"
           }
          ],
          "scattergeo": [
           {
            "marker": {
             "colorbar": {
              "outlinewidth": 0,
              "ticks": ""
             }
            },
            "type": "scattergeo"
           }
          ],
          "scattergl": [
           {
            "marker": {
             "colorbar": {
              "outlinewidth": 0,
              "ticks": ""
             }
            },
            "type": "scattergl"
           }
          ],
          "scattermapbox": [
           {
            "marker": {
             "colorbar": {
              "outlinewidth": 0,
              "ticks": ""
             }
            },
            "type": "scattermapbox"
           }
          ],
          "scatterpolar": [
           {
            "marker": {
             "colorbar": {
              "outlinewidth": 0,
              "ticks": ""
             }
            },
            "type": "scatterpolar"
           }
          ],
          "scatterpolargl": [
           {
            "marker": {
             "colorbar": {
              "outlinewidth": 0,
              "ticks": ""
             }
            },
            "type": "scatterpolargl"
           }
          ],
          "scatterternary": [
           {
            "marker": {
             "colorbar": {
              "outlinewidth": 0,
              "ticks": ""
             }
            },
            "type": "scatterternary"
           }
          ],
          "surface": [
           {
            "colorbar": {
             "outlinewidth": 0,
             "ticks": ""
            },
            "colorscale": [
             [
              0,
              "#0d0887"
             ],
             [
              0.1111111111111111,
              "#46039f"
             ],
             [
              0.2222222222222222,
              "#7201a8"
             ],
             [
              0.3333333333333333,
              "#9c179e"
             ],
             [
              0.4444444444444444,
              "#bd3786"
             ],
             [
              0.5555555555555556,
              "#d8576b"
             ],
             [
              0.6666666666666666,
              "#ed7953"
             ],
             [
              0.7777777777777778,
              "#fb9f3a"
             ],
             [
              0.8888888888888888,
              "#fdca26"
             ],
             [
              1,
              "#f0f921"
             ]
            ],
            "type": "surface"
           }
          ],
          "table": [
           {
            "cells": {
             "fill": {
              "color": "#EBF0F8"
             },
             "line": {
              "color": "white"
             }
            },
            "header": {
             "fill": {
              "color": "#C8D4E3"
             },
             "line": {
              "color": "white"
             }
            },
            "type": "table"
           }
          ]
         },
         "layout": {
          "annotationdefaults": {
           "arrowcolor": "#2a3f5f",
           "arrowhead": 0,
           "arrowwidth": 1
          },
          "autotypenumbers": "strict",
          "coloraxis": {
           "colorbar": {
            "outlinewidth": 0,
            "ticks": ""
           }
          },
          "colorscale": {
           "diverging": [
            [
             0,
             "#8e0152"
            ],
            [
             0.1,
             "#c51b7d"
            ],
            [
             0.2,
             "#de77ae"
            ],
            [
             0.3,
             "#f1b6da"
            ],
            [
             0.4,
             "#fde0ef"
            ],
            [
             0.5,
             "#f7f7f7"
            ],
            [
             0.6,
             "#e6f5d0"
            ],
            [
             0.7,
             "#b8e186"
            ],
            [
             0.8,
             "#7fbc41"
            ],
            [
             0.9,
             "#4d9221"
            ],
            [
             1,
             "#276419"
            ]
           ],
           "sequential": [
            [
             0,
             "#0d0887"
            ],
            [
             0.1111111111111111,
             "#46039f"
            ],
            [
             0.2222222222222222,
             "#7201a8"
            ],
            [
             0.3333333333333333,
             "#9c179e"
            ],
            [
             0.4444444444444444,
             "#bd3786"
            ],
            [
             0.5555555555555556,
             "#d8576b"
            ],
            [
             0.6666666666666666,
             "#ed7953"
            ],
            [
             0.7777777777777778,
             "#fb9f3a"
            ],
            [
             0.8888888888888888,
             "#fdca26"
            ],
            [
             1,
             "#f0f921"
            ]
           ],
           "sequentialminus": [
            [
             0,
             "#0d0887"
            ],
            [
             0.1111111111111111,
             "#46039f"
            ],
            [
             0.2222222222222222,
             "#7201a8"
            ],
            [
             0.3333333333333333,
             "#9c179e"
            ],
            [
             0.4444444444444444,
             "#bd3786"
            ],
            [
             0.5555555555555556,
             "#d8576b"
            ],
            [
             0.6666666666666666,
             "#ed7953"
            ],
            [
             0.7777777777777778,
             "#fb9f3a"
            ],
            [
             0.8888888888888888,
             "#fdca26"
            ],
            [
             1,
             "#f0f921"
            ]
           ]
          },
          "colorway": [
           "#636efa",
           "#EF553B",
           "#00cc96",
           "#ab63fa",
           "#FFA15A",
           "#19d3f3",
           "#FF6692",
           "#B6E880",
           "#FF97FF",
           "#FECB52"
          ],
          "font": {
           "color": "#2a3f5f"
          },
          "geo": {
           "bgcolor": "white",
           "lakecolor": "white",
           "landcolor": "#E5ECF6",
           "showlakes": true,
           "showland": true,
           "subunitcolor": "white"
          },
          "hoverlabel": {
           "align": "left"
          },
          "hovermode": "closest",
          "mapbox": {
           "style": "light"
          },
          "paper_bgcolor": "white",
          "plot_bgcolor": "#E5ECF6",
          "polar": {
           "angularaxis": {
            "gridcolor": "white",
            "linecolor": "white",
            "ticks": ""
           },
           "bgcolor": "#E5ECF6",
           "radialaxis": {
            "gridcolor": "white",
            "linecolor": "white",
            "ticks": ""
           }
          },
          "scene": {
           "xaxis": {
            "backgroundcolor": "#E5ECF6",
            "gridcolor": "white",
            "gridwidth": 2,
            "linecolor": "white",
            "showbackground": true,
            "ticks": "",
            "zerolinecolor": "white"
           },
           "yaxis": {
            "backgroundcolor": "#E5ECF6",
            "gridcolor": "white",
            "gridwidth": 2,
            "linecolor": "white",
            "showbackground": true,
            "ticks": "",
            "zerolinecolor": "white"
           },
           "zaxis": {
            "backgroundcolor": "#E5ECF6",
            "gridcolor": "white",
            "gridwidth": 2,
            "linecolor": "white",
            "showbackground": true,
            "ticks": "",
            "zerolinecolor": "white"
           }
          },
          "shapedefaults": {
           "line": {
            "color": "#2a3f5f"
           }
          },
          "ternary": {
           "aaxis": {
            "gridcolor": "white",
            "linecolor": "white",
            "ticks": ""
           },
           "baxis": {
            "gridcolor": "white",
            "linecolor": "white",
            "ticks": ""
           },
           "bgcolor": "#E5ECF6",
           "caxis": {
            "gridcolor": "white",
            "linecolor": "white",
            "ticks": ""
           }
          },
          "title": {
           "x": 0.05
          },
          "xaxis": {
           "automargin": true,
           "gridcolor": "white",
           "linecolor": "white",
           "ticks": "",
           "title": {
            "standoff": 15
           },
           "zerolinecolor": "white",
           "zerolinewidth": 2
          },
          "yaxis": {
           "automargin": true,
           "gridcolor": "white",
           "linecolor": "white",
           "ticks": "",
           "title": {
            "standoff": 15
           },
           "zerolinecolor": "white",
           "zerolinewidth": 2
          }
         }
        },
        "title": {
         "text": "LLMs Comparison"
        },
        "xaxis": {
         "title": {
          "text": "Metrics"
         }
        },
        "yaxis": {
         "tickformat": ".3f",
         "title": {
          "text": "Metric Score"
         }
        }
       }
      }
     },
     "metadata": {},
     "output_type": "display_data"
    }
   ],
   "source": [
    "import pandas as pd\n",
    "import plotly.graph_objects as go\n",
    "\n",
    "# Read each CSV file into a DataFrame\n",
    "mistral_df = pd.read_csv('results/mistral_evaluation.csv')\n",
    "llama2_7b_df = pd.read_csv('results/llama2_evaluation.csv')\n",
    "llama2_13b_df = pd.read_csv('results/llama2_13b_evaluation.csv')\n",
    "llama3_8b_df = pd.read_csv('results/llama3_8b_evaluation.csv')\n",
    "\n",
    "# Calculate averages of metric columns for each file\n",
    "mistral_averages = mistral_df[['context_precision', 'faithfulness', 'answer_relevancy', 'context_recall']].mean()\n",
    "llama2_7b_averages = llama2_7b_df[['context_precision', 'faithfulness', 'answer_relevancy', 'context_recall']].mean()\n",
    "llama2_13b_averages = llama2_13b_df[['context_precision', 'faithfulness', 'answer_relevancy', 'context_recall']].mean()\n",
    "llama3_8b_averages = llama3_8b_df[['context_precision', 'faithfulness', 'answer_relevancy', 'context_recall']].mean()\n",
    "\n",
    "# Create a bar chart\n",
    "fig = go.Figure()\n",
    "\n",
    "# Add traces for each file\n",
    "fig.add_trace(go.Bar(\n",
    "    x=mistral_averages.index,\n",
    "    y=mistral_averages.values,\n",
    "    name='Mistral 7b',\n",
    "    marker=dict(color='orange')\n",
    "))\n",
    "\n",
    "fig.add_trace(go.Bar(\n",
    "    x=llama2_7b_averages.index,\n",
    "    y=llama2_7b_averages.values,\n",
    "    name='LLama2 7b',\n",
    "    marker=dict(color='skyblue')\n",
    "))\n",
    "\n",
    "fig.add_trace(go.Bar(\n",
    "    x=llama2_13b_averages.index,\n",
    "    y=llama2_13b_averages.values,\n",
    "    name='LLama2 13b',\n",
    "    marker=dict(color='green')\n",
    "))\n",
    "\n",
    "fig.add_trace(go.Bar(\n",
    "    x=llama3_8b_averages.index,\n",
    "    y=llama3_8b_averages.values,\n",
    "    name='LLama3 8b',\n",
    "    marker=dict(color='#9467bd')\n",
    "))\n",
    "\n",
    "# Update layout\n",
    "fig.update_layout(\n",
    "    title='LLMs Comparison',\n",
    "    xaxis_title='Metrics',\n",
    "    yaxis_title='Metric Score',\n",
    "    barmode='group',\n",
    "    yaxis=dict(tickformat=\".3f\")\n",
    ")\n",
    "\n",
    "# Show the plot\n",
    "fig.show()\n"
   ]
  },
  {
   "cell_type": "markdown",
   "metadata": {},
   "source": [
    "## Final Score "
   ]
  },
  {
   "cell_type": "code",
   "execution_count": 34,
   "metadata": {},
   "outputs": [
    {
     "data": {
      "application/vnd.plotly.v1+json": {
       "config": {
        "plotlyServerURL": "https://plot.ly"
       },
       "data": [
        {
         "marker": {
          "color": "orange"
         },
         "name": "Mistral 7b",
         "text": [
          0.959
         ],
         "textfont": {
          "size": 14
         },
         "textposition": "auto",
         "type": "bar",
         "x": [
          "score"
         ],
         "y": [
          0.9592471983378734
         ]
        },
        {
         "marker": {
          "color": "skyblue"
         },
         "name": "LLama2 7b",
         "text": [
          0.955
         ],
         "textfont": {
          "size": 14
         },
         "textposition": "auto",
         "type": "bar",
         "x": [
          "score"
         ],
         "y": [
          0.9552815856390421
         ]
        },
        {
         "marker": {
          "color": "green"
         },
         "name": "LLama2 13b",
         "text": [
          0.906
         ],
         "textfont": {
          "size": 14
         },
         "textposition": "auto",
         "type": "bar",
         "x": [
          "score"
         ],
         "y": [
          0.9056947054375
         ]
        },
        {
         "marker": {
          "color": "#9467bd"
         },
         "name": "LLama3 8b",
         "text": [
          0.975
         ],
         "textfont": {
          "size": 14
         },
         "textposition": "auto",
         "type": "bar",
         "x": [
          "score"
         ],
         "y": [
          0.9750148998746638
         ]
        }
       ],
       "layout": {
        "barmode": "group",
        "template": {
         "data": {
          "bar": [
           {
            "error_x": {
             "color": "#2a3f5f"
            },
            "error_y": {
             "color": "#2a3f5f"
            },
            "marker": {
             "line": {
              "color": "#E5ECF6",
              "width": 0.5
             },
             "pattern": {
              "fillmode": "overlay",
              "size": 10,
              "solidity": 0.2
             }
            },
            "type": "bar"
           }
          ],
          "barpolar": [
           {
            "marker": {
             "line": {
              "color": "#E5ECF6",
              "width": 0.5
             },
             "pattern": {
              "fillmode": "overlay",
              "size": 10,
              "solidity": 0.2
             }
            },
            "type": "barpolar"
           }
          ],
          "carpet": [
           {
            "aaxis": {
             "endlinecolor": "#2a3f5f",
             "gridcolor": "white",
             "linecolor": "white",
             "minorgridcolor": "white",
             "startlinecolor": "#2a3f5f"
            },
            "baxis": {
             "endlinecolor": "#2a3f5f",
             "gridcolor": "white",
             "linecolor": "white",
             "minorgridcolor": "white",
             "startlinecolor": "#2a3f5f"
            },
            "type": "carpet"
           }
          ],
          "choropleth": [
           {
            "colorbar": {
             "outlinewidth": 0,
             "ticks": ""
            },
            "type": "choropleth"
           }
          ],
          "contour": [
           {
            "colorbar": {
             "outlinewidth": 0,
             "ticks": ""
            },
            "colorscale": [
             [
              0,
              "#0d0887"
             ],
             [
              0.1111111111111111,
              "#46039f"
             ],
             [
              0.2222222222222222,
              "#7201a8"
             ],
             [
              0.3333333333333333,
              "#9c179e"
             ],
             [
              0.4444444444444444,
              "#bd3786"
             ],
             [
              0.5555555555555556,
              "#d8576b"
             ],
             [
              0.6666666666666666,
              "#ed7953"
             ],
             [
              0.7777777777777778,
              "#fb9f3a"
             ],
             [
              0.8888888888888888,
              "#fdca26"
             ],
             [
              1,
              "#f0f921"
             ]
            ],
            "type": "contour"
           }
          ],
          "contourcarpet": [
           {
            "colorbar": {
             "outlinewidth": 0,
             "ticks": ""
            },
            "type": "contourcarpet"
           }
          ],
          "heatmap": [
           {
            "colorbar": {
             "outlinewidth": 0,
             "ticks": ""
            },
            "colorscale": [
             [
              0,
              "#0d0887"
             ],
             [
              0.1111111111111111,
              "#46039f"
             ],
             [
              0.2222222222222222,
              "#7201a8"
             ],
             [
              0.3333333333333333,
              "#9c179e"
             ],
             [
              0.4444444444444444,
              "#bd3786"
             ],
             [
              0.5555555555555556,
              "#d8576b"
             ],
             [
              0.6666666666666666,
              "#ed7953"
             ],
             [
              0.7777777777777778,
              "#fb9f3a"
             ],
             [
              0.8888888888888888,
              "#fdca26"
             ],
             [
              1,
              "#f0f921"
             ]
            ],
            "type": "heatmap"
           }
          ],
          "heatmapgl": [
           {
            "colorbar": {
             "outlinewidth": 0,
             "ticks": ""
            },
            "colorscale": [
             [
              0,
              "#0d0887"
             ],
             [
              0.1111111111111111,
              "#46039f"
             ],
             [
              0.2222222222222222,
              "#7201a8"
             ],
             [
              0.3333333333333333,
              "#9c179e"
             ],
             [
              0.4444444444444444,
              "#bd3786"
             ],
             [
              0.5555555555555556,
              "#d8576b"
             ],
             [
              0.6666666666666666,
              "#ed7953"
             ],
             [
              0.7777777777777778,
              "#fb9f3a"
             ],
             [
              0.8888888888888888,
              "#fdca26"
             ],
             [
              1,
              "#f0f921"
             ]
            ],
            "type": "heatmapgl"
           }
          ],
          "histogram": [
           {
            "marker": {
             "pattern": {
              "fillmode": "overlay",
              "size": 10,
              "solidity": 0.2
             }
            },
            "type": "histogram"
           }
          ],
          "histogram2d": [
           {
            "colorbar": {
             "outlinewidth": 0,
             "ticks": ""
            },
            "colorscale": [
             [
              0,
              "#0d0887"
             ],
             [
              0.1111111111111111,
              "#46039f"
             ],
             [
              0.2222222222222222,
              "#7201a8"
             ],
             [
              0.3333333333333333,
              "#9c179e"
             ],
             [
              0.4444444444444444,
              "#bd3786"
             ],
             [
              0.5555555555555556,
              "#d8576b"
             ],
             [
              0.6666666666666666,
              "#ed7953"
             ],
             [
              0.7777777777777778,
              "#fb9f3a"
             ],
             [
              0.8888888888888888,
              "#fdca26"
             ],
             [
              1,
              "#f0f921"
             ]
            ],
            "type": "histogram2d"
           }
          ],
          "histogram2dcontour": [
           {
            "colorbar": {
             "outlinewidth": 0,
             "ticks": ""
            },
            "colorscale": [
             [
              0,
              "#0d0887"
             ],
             [
              0.1111111111111111,
              "#46039f"
             ],
             [
              0.2222222222222222,
              "#7201a8"
             ],
             [
              0.3333333333333333,
              "#9c179e"
             ],
             [
              0.4444444444444444,
              "#bd3786"
             ],
             [
              0.5555555555555556,
              "#d8576b"
             ],
             [
              0.6666666666666666,
              "#ed7953"
             ],
             [
              0.7777777777777778,
              "#fb9f3a"
             ],
             [
              0.8888888888888888,
              "#fdca26"
             ],
             [
              1,
              "#f0f921"
             ]
            ],
            "type": "histogram2dcontour"
           }
          ],
          "mesh3d": [
           {
            "colorbar": {
             "outlinewidth": 0,
             "ticks": ""
            },
            "type": "mesh3d"
           }
          ],
          "parcoords": [
           {
            "line": {
             "colorbar": {
              "outlinewidth": 0,
              "ticks": ""
             }
            },
            "type": "parcoords"
           }
          ],
          "pie": [
           {
            "automargin": true,
            "type": "pie"
           }
          ],
          "scatter": [
           {
            "fillpattern": {
             "fillmode": "overlay",
             "size": 10,
             "solidity": 0.2
            },
            "type": "scatter"
           }
          ],
          "scatter3d": [
           {
            "line": {
             "colorbar": {
              "outlinewidth": 0,
              "ticks": ""
             }
            },
            "marker": {
             "colorbar": {
              "outlinewidth": 0,
              "ticks": ""
             }
            },
            "type": "scatter3d"
           }
          ],
          "scattercarpet": [
           {
            "marker": {
             "colorbar": {
              "outlinewidth": 0,
              "ticks": ""
             }
            },
            "type": "scattercarpet"
           }
          ],
          "scattergeo": [
           {
            "marker": {
             "colorbar": {
              "outlinewidth": 0,
              "ticks": ""
             }
            },
            "type": "scattergeo"
           }
          ],
          "scattergl": [
           {
            "marker": {
             "colorbar": {
              "outlinewidth": 0,
              "ticks": ""
             }
            },
            "type": "scattergl"
           }
          ],
          "scattermapbox": [
           {
            "marker": {
             "colorbar": {
              "outlinewidth": 0,
              "ticks": ""
             }
            },
            "type": "scattermapbox"
           }
          ],
          "scatterpolar": [
           {
            "marker": {
             "colorbar": {
              "outlinewidth": 0,
              "ticks": ""
             }
            },
            "type": "scatterpolar"
           }
          ],
          "scatterpolargl": [
           {
            "marker": {
             "colorbar": {
              "outlinewidth": 0,
              "ticks": ""
             }
            },
            "type": "scatterpolargl"
           }
          ],
          "scatterternary": [
           {
            "marker": {
             "colorbar": {
              "outlinewidth": 0,
              "ticks": ""
             }
            },
            "type": "scatterternary"
           }
          ],
          "surface": [
           {
            "colorbar": {
             "outlinewidth": 0,
             "ticks": ""
            },
            "colorscale": [
             [
              0,
              "#0d0887"
             ],
             [
              0.1111111111111111,
              "#46039f"
             ],
             [
              0.2222222222222222,
              "#7201a8"
             ],
             [
              0.3333333333333333,
              "#9c179e"
             ],
             [
              0.4444444444444444,
              "#bd3786"
             ],
             [
              0.5555555555555556,
              "#d8576b"
             ],
             [
              0.6666666666666666,
              "#ed7953"
             ],
             [
              0.7777777777777778,
              "#fb9f3a"
             ],
             [
              0.8888888888888888,
              "#fdca26"
             ],
             [
              1,
              "#f0f921"
             ]
            ],
            "type": "surface"
           }
          ],
          "table": [
           {
            "cells": {
             "fill": {
              "color": "#EBF0F8"
             },
             "line": {
              "color": "white"
             }
            },
            "header": {
             "fill": {
              "color": "#C8D4E3"
             },
             "line": {
              "color": "white"
             }
            },
            "type": "table"
           }
          ]
         },
         "layout": {
          "annotationdefaults": {
           "arrowcolor": "#2a3f5f",
           "arrowhead": 0,
           "arrowwidth": 1
          },
          "autotypenumbers": "strict",
          "coloraxis": {
           "colorbar": {
            "outlinewidth": 0,
            "ticks": ""
           }
          },
          "colorscale": {
           "diverging": [
            [
             0,
             "#8e0152"
            ],
            [
             0.1,
             "#c51b7d"
            ],
            [
             0.2,
             "#de77ae"
            ],
            [
             0.3,
             "#f1b6da"
            ],
            [
             0.4,
             "#fde0ef"
            ],
            [
             0.5,
             "#f7f7f7"
            ],
            [
             0.6,
             "#e6f5d0"
            ],
            [
             0.7,
             "#b8e186"
            ],
            [
             0.8,
             "#7fbc41"
            ],
            [
             0.9,
             "#4d9221"
            ],
            [
             1,
             "#276419"
            ]
           ],
           "sequential": [
            [
             0,
             "#0d0887"
            ],
            [
             0.1111111111111111,
             "#46039f"
            ],
            [
             0.2222222222222222,
             "#7201a8"
            ],
            [
             0.3333333333333333,
             "#9c179e"
            ],
            [
             0.4444444444444444,
             "#bd3786"
            ],
            [
             0.5555555555555556,
             "#d8576b"
            ],
            [
             0.6666666666666666,
             "#ed7953"
            ],
            [
             0.7777777777777778,
             "#fb9f3a"
            ],
            [
             0.8888888888888888,
             "#fdca26"
            ],
            [
             1,
             "#f0f921"
            ]
           ],
           "sequentialminus": [
            [
             0,
             "#0d0887"
            ],
            [
             0.1111111111111111,
             "#46039f"
            ],
            [
             0.2222222222222222,
             "#7201a8"
            ],
            [
             0.3333333333333333,
             "#9c179e"
            ],
            [
             0.4444444444444444,
             "#bd3786"
            ],
            [
             0.5555555555555556,
             "#d8576b"
            ],
            [
             0.6666666666666666,
             "#ed7953"
            ],
            [
             0.7777777777777778,
             "#fb9f3a"
            ],
            [
             0.8888888888888888,
             "#fdca26"
            ],
            [
             1,
             "#f0f921"
            ]
           ]
          },
          "colorway": [
           "#636efa",
           "#EF553B",
           "#00cc96",
           "#ab63fa",
           "#FFA15A",
           "#19d3f3",
           "#FF6692",
           "#B6E880",
           "#FF97FF",
           "#FECB52"
          ],
          "font": {
           "color": "#2a3f5f"
          },
          "geo": {
           "bgcolor": "white",
           "lakecolor": "white",
           "landcolor": "#E5ECF6",
           "showlakes": true,
           "showland": true,
           "subunitcolor": "white"
          },
          "hoverlabel": {
           "align": "left"
          },
          "hovermode": "closest",
          "mapbox": {
           "style": "light"
          },
          "paper_bgcolor": "white",
          "plot_bgcolor": "#E5ECF6",
          "polar": {
           "angularaxis": {
            "gridcolor": "white",
            "linecolor": "white",
            "ticks": ""
           },
           "bgcolor": "#E5ECF6",
           "radialaxis": {
            "gridcolor": "white",
            "linecolor": "white",
            "ticks": ""
           }
          },
          "scene": {
           "xaxis": {
            "backgroundcolor": "#E5ECF6",
            "gridcolor": "white",
            "gridwidth": 2,
            "linecolor": "white",
            "showbackground": true,
            "ticks": "",
            "zerolinecolor": "white"
           },
           "yaxis": {
            "backgroundcolor": "#E5ECF6",
            "gridcolor": "white",
            "gridwidth": 2,
            "linecolor": "white",
            "showbackground": true,
            "ticks": "",
            "zerolinecolor": "white"
           },
           "zaxis": {
            "backgroundcolor": "#E5ECF6",
            "gridcolor": "white",
            "gridwidth": 2,
            "linecolor": "white",
            "showbackground": true,
            "ticks": "",
            "zerolinecolor": "white"
           }
          },
          "shapedefaults": {
           "line": {
            "color": "#2a3f5f"
           }
          },
          "ternary": {
           "aaxis": {
            "gridcolor": "white",
            "linecolor": "white",
            "ticks": ""
           },
           "baxis": {
            "gridcolor": "white",
            "linecolor": "white",
            "ticks": ""
           },
           "bgcolor": "#E5ECF6",
           "caxis": {
            "gridcolor": "white",
            "linecolor": "white",
            "ticks": ""
           }
          },
          "title": {
           "x": 0.05
          },
          "xaxis": {
           "automargin": true,
           "gridcolor": "white",
           "linecolor": "white",
           "ticks": "",
           "title": {
            "standoff": 15
           },
           "zerolinecolor": "white",
           "zerolinewidth": 2
          },
          "yaxis": {
           "automargin": true,
           "gridcolor": "white",
           "linecolor": "white",
           "ticks": "",
           "title": {
            "standoff": 15
           },
           "zerolinecolor": "white",
           "zerolinewidth": 2
          }
         }
        },
        "title": {
         "text": "LLMs Comparison"
        },
        "xaxis": {
         "title": {
          "text": "LLMs"
         }
        },
        "yaxis": {
         "tickformat": ".3f",
         "title": {
          "text": "Metric Score"
         }
        }
       }
      }
     },
     "metadata": {},
     "output_type": "display_data"
    }
   ],
   "source": [
    "import pandas as pd\n",
    "import plotly.graph_objects as go\n",
    "\n",
    "weights = {\n",
    "    \"context_precision\": 0.25,\n",
    "    \"faithfulness\": 0.25,\n",
    "    \"answer_relevancy\": 0.25,\n",
    "    \"context_recall\": 0.25\n",
    "}\n",
    "\n",
    "def calculate_score(row):\n",
    "    score = (\n",
    "        weights[\"context_precision\"] * row[\"context_precision\"] +\n",
    "        weights[\"faithfulness\"] * row[\"faithfulness\"] +\n",
    "        weights[\"answer_relevancy\"] * row[\"answer_relevancy\"] +\n",
    "        weights[\"context_recall\"] * row[\"context_recall\"]\n",
    "    )\n",
    "    return score\n",
    "\n",
    "mistral_df = pd.read_csv('results/mistral_evaluation.csv')\n",
    "llama2_7b_df = pd.read_csv('results/llama2_evaluation.csv')\n",
    "llama2_13b_df = pd.read_csv('results/llama2_13b_evaluation.csv')\n",
    "llama4_8b_df = pd.read_csv('results/llama3_8b_evaluation.csv')\n",
    "mistral_df['score'] = mistral_df.apply(calculate_score, axis=1)\n",
    "llama2_7b_df['score'] = llama2_7b_df.apply(calculate_score, axis=1)\n",
    "llama2_13b_df['score'] = llama2_13b_df.apply(calculate_score, axis=1)\n",
    "llama3_8b_df['score'] = llama3_8b_df.apply(calculate_score, axis=1)\n",
    "\n",
    "# Calculate averages of metric columns for each file\n",
    "mistral_averages = mistral_df[['score']].mean()\n",
    "llama2_7b_averages = llama2_7b_df[['score']].mean()\n",
    "llama2_13b_averages = llama2_13b_df[['score']].mean()\n",
    "llama3_8b_averages = llama3_8b_df[['score']].mean()\n",
    "\n",
    "# Create a bar chart\n",
    "fig = go.Figure()\n",
    "\n",
    "# Add traces for each file\n",
    "fig.add_trace(go.Bar(\n",
    "    x=mistral_averages.index,\n",
    "    y=mistral_averages.values,\n",
    "    name='Mistral 7b',\n",
    "    text=mistral_averages.values.round(3),\n",
    "    textposition='auto',\n",
    "    textfont=dict(size=14),\n",
    "    marker=dict(color='orange')\n",
    "))\n",
    "\n",
    "fig.add_trace(go.Bar(\n",
    "    x=llama2_7b_averages.index,\n",
    "    y=llama2_7b_averages.values,\n",
    "    name='LLama2 7b',\n",
    "    text=llama2_7b_averages.values.round(3),\n",
    "    textposition='auto',\n",
    "    textfont=dict(size=14),\n",
    "    marker=dict(color='skyblue')\n",
    "))\n",
    "\n",
    "fig.add_trace(go.Bar(\n",
    "    x=llama2_13b_averages.index,\n",
    "    y=llama2_13b_averages.values,\n",
    "    name='LLama2 13b',\n",
    "    text=llama2_13b_averages.values.round(3),\n",
    "    textposition='auto',\n",
    "    textfont=dict(size=14),\n",
    "    marker=dict(color='green')\n",
    "))\n",
    "\n",
    "fig.add_trace(go.Bar(\n",
    "    x=llama3_8b_averages.index,\n",
    "    y=llama3_8b_averages.values,\n",
    "    name='LLama3 8b',\n",
    "    text=llama3_8b_averages.values.round(3),\n",
    "    textposition='auto',\n",
    "    textfont=dict(size=14),\n",
    "    marker=dict(color='#9467bd')\n",
    "))\n",
    "\n",
    "# Update layout\n",
    "fig.update_layout(\n",
    "    title='LLMs Comparison',\n",
    "    xaxis_title='LLMs',\n",
    "    yaxis_title='Metric Score',\n",
    "    barmode='group',\n",
    "    yaxis=dict(tickformat=\".3f\")\n",
    ")\n",
    "\n",
    "# Show the plot\n",
    "fig.show()\n"
   ]
  }
 ],
 "metadata": {
  "kernelspec": {
   "display_name": ".venv",
   "language": "python",
   "name": "python3"
  },
  "language_info": {
   "codemirror_mode": {
    "name": "ipython",
    "version": 3
   },
   "file_extension": ".py",
   "mimetype": "text/x-python",
   "name": "python",
   "nbconvert_exporter": "python",
   "pygments_lexer": "ipython3",
   "version": "3.10.13"
  }
 },
 "nbformat": 4,
 "nbformat_minor": 2
}
